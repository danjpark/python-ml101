{
 "cells": [
  {
   "cell_type": "code",
   "execution_count": 2,
   "metadata": {
    "slideshow": {
     "slide_type": "-"
    }
   },
   "outputs": [],
   "source": [
    "## Import modules as needed\n",
    "import pandas as pd\n",
    "import numpy as np\n",
    "import altair as alt\n",
    "import random\n",
    "\n",
    "## enabling for altair\n",
    "alt.enable_mime_rendering()\n",
    "\n",
    "#Some basic global variables\n",
    "DIMENSION = 2\n",
    "NUMBER_OF_TRAINING = 100"
   ]
  },
  {
   "cell_type": "markdown",
   "metadata": {},
   "source": [
    "We first create the training examples. To do so we need to create\n",
    "1. the true linear seperator ($w^*$)\n",
    "2. generate a list of points ($x$) and its class ($y=h(x)$).\n",
    "\n",
    "Note:\n",
    "We are working in a 2-dimensional space but keep in mind that $x=(1, x_1,x_2)$. The form of the true linear seperator is $[w_0, w_1, w_2]$. And $h(x)=sign(w^Tx)$. If we were to show this as $y = ax + b$ this will be presented in $w_0, w_1, w_2$ as $y=-\\frac{w_1}{w_2}x-\\frac{w_o}{w_2}$\n"
   ]
  },
  {
   "cell_type": "code",
   "execution_count": 53,
   "metadata": {},
   "outputs": [],
   "source": [
    "def generate_w_star():\n",
    "    w_star = np.matrix([((random.random()-0.5) * 10) for i in range(DIMENSION + 1)]).T\n",
    "    return w_star\n",
    "\n",
    "def generate_training_set(w_star, training_size):\n",
    "    training_x = np.vstack([\n",
    "                               [1 for i in range(NUMBER_OF_TRAINING)],\n",
    "                               np.matrix((np.random.rand(DIMENSION, NUMBER_OF_TRAINING) - 0.5) * 100)\n",
    "                           ])\n",
    "    training_y = np.sign(w_star.T * training_x)\n",
    "    return(training_x, training_y)\n",
    "\n",
    "def pla(training_x, training_y):\n",
    "    w_trained = np.matrix([0 for i in range(DIMENSION + 1)]).T\n",
    "\n",
    "    counter = 0\n",
    "\n",
    "    while True:\n",
    "        counter += 1\n",
    "        for i in range(NUMBER_OF_TRAINING):\n",
    "            if np.sign(training_x.T[i] * w_trained) != training_y.T[i]:\n",
    "                w_trained = w_trained + (training_x.T[i].T * training_y.T[i])\n",
    "                break\n",
    "            else:\n",
    "                continue\n",
    "        if (np.sign(w_trained.T * training_x) == training_y).all():\n",
    "            break\n",
    "    "
   ]
  },
  {
   "cell_type": "code",
   "execution_count": 52,
   "metadata": {},
   "outputs": [],
   "source": [
    "# test running the functions\n",
    "\n",
    "w_star = generate_w_star()\n",
    "training_xy = generate_training_set(w_star, 100)\n"
   ]
  },
  {
   "cell_type": "markdown",
   "metadata": {},
   "source": [
    "Now we set up 100 random training_x and calculate the training_y"
   ]
  },
  {
   "cell_type": "markdown",
   "metadata": {},
   "source": [
    "Altair is a great graphing package for python that handles high level statistical graphing. Unfortuantely, I haven't figured out how to layer the graph with the actual dividor ($w^*$).\n",
    "\n",
    "Now for the actual perceptron learning algo (PLA).\n"
   ]
  },
  {
   "cell_type": "code",
   "execution_count": 54,
   "metadata": {},
   "outputs": [
    {
     "data": {
      "text/plain": [
       "matrix([[0],\n",
       "        [0],\n",
       "        [0]])"
      ]
     },
     "execution_count": 54,
     "metadata": {},
     "output_type": "execute_result"
    }
   ],
   "source": [
    "# intial guess\n",
    "w_trained = np.matrix([0 for i in range(2+1)]).T\n",
    "\n",
    "counter = 0\n",
    "\n",
    "w_trained\n",
    "\n",
    "# write something to normalize the array\n",
    "# also make sure to do the same to w_Star at teh beginngin"
   ]
  },
  {
   "cell_type": "code",
   "execution_count": null,
   "metadata": {},
   "outputs": [],
   "source": []
  }
 ],
 "metadata": {
  "kernelspec": {
   "display_name": "Python 3",
   "language": "python",
   "name": "python3"
  },
  "language_info": {
   "codemirror_mode": {
    "name": "ipython",
    "version": 3
   },
   "file_extension": ".py",
   "mimetype": "text/x-python",
   "name": "python",
   "nbconvert_exporter": "python",
   "pygments_lexer": "ipython3",
   "version": "3.6.3"
  }
 },
 "nbformat": 4,
 "nbformat_minor": 2
}
