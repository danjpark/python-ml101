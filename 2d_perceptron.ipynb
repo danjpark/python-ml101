{
 "cells": [
  {
   "cell_type": "code",
   "execution_count": 158,
   "metadata": {
    "slideshow": {
     "slide_type": "-"
    }
   },
   "outputs": [],
   "source": [
    "## Import modules as needed\n",
    "import pandas as pd\n",
    "import numpy as np\n",
    "import altair as alt\n",
    "import random\n",
    "\n",
    "## enabling for altair\n",
    "alt.enable_mime_rendering()\n",
    "\n",
    "#Some basic global variables\n",
    "NUMBER_OF_TRAINING = 100"
   ]
  },
  {
   "cell_type": "markdown",
   "metadata": {},
   "source": [
    "We first create the training examples. To do so we need to create\n",
    "1. the true linear seperator ($w^*$)\n",
    "2. generate a list of points ($x$) and its class ($y=h(x)$).\n",
    "\n",
    "Note:\n",
    "We are working in a 2-dimensional space but keep in mind that $x=(1, x_1,x_2)$. The form of the true linear seperator is $[w_0, w_1, w_2]$. And $h(x)=sign(w^Tx)$. If we were to show this as $y = ax + b$ this will be presented in $w_0, w_1, w_2$ as $y=-\\frac{w_1}{w_2}x-\\frac{w_o}{w_2}$\n"
   ]
  },
  {
   "cell_type": "code",
   "execution_count": 159,
   "metadata": {},
   "outputs": [
    {
     "data": {
      "text/plain": [
       "matrix([[-1.06578452],\n",
       "        [ 4.32133286],\n",
       "        [-2.17804362]])"
      ]
     },
     "execution_count": 159,
     "metadata": {},
     "output_type": "execute_result"
    }
   ],
   "source": [
    "w_star = np.matrix([((random.random()-0.5) * 10) for i in range(3)]).T\n",
    "w_star"
   ]
  },
  {
   "cell_type": "markdown",
   "metadata": {},
   "source": [
    "Now we set up 100 random training_x and calculate the training_y"
   ]
  },
  {
   "cell_type": "code",
   "execution_count": 160,
   "metadata": {},
   "outputs": [
    {
     "data": {
      "text/html": [
       "<div>\n",
       "<style scoped>\n",
       "    .dataframe tbody tr th:only-of-type {\n",
       "        vertical-align: middle;\n",
       "    }\n",
       "\n",
       "    .dataframe tbody tr th {\n",
       "        vertical-align: top;\n",
       "    }\n",
       "\n",
       "    .dataframe thead th {\n",
       "        text-align: right;\n",
       "    }\n",
       "</style>\n",
       "<table border=\"1\" class=\"dataframe\">\n",
       "  <thead>\n",
       "    <tr style=\"text-align: right;\">\n",
       "      <th></th>\n",
       "      <th>x</th>\n",
       "      <th>y</th>\n",
       "      <th>class</th>\n",
       "    </tr>\n",
       "  </thead>\n",
       "  <tbody>\n",
       "    <tr>\n",
       "      <th>0</th>\n",
       "      <td>34.252978</td>\n",
       "      <td>-11.916370</td>\n",
       "      <td>1.0</td>\n",
       "    </tr>\n",
       "    <tr>\n",
       "      <th>1</th>\n",
       "      <td>-3.840215</td>\n",
       "      <td>47.563229</td>\n",
       "      <td>-1.0</td>\n",
       "    </tr>\n",
       "    <tr>\n",
       "      <th>2</th>\n",
       "      <td>22.823709</td>\n",
       "      <td>-47.539106</td>\n",
       "      <td>1.0</td>\n",
       "    </tr>\n",
       "    <tr>\n",
       "      <th>3</th>\n",
       "      <td>39.019143</td>\n",
       "      <td>31.530198</td>\n",
       "      <td>1.0</td>\n",
       "    </tr>\n",
       "    <tr>\n",
       "      <th>4</th>\n",
       "      <td>35.329273</td>\n",
       "      <td>17.508157</td>\n",
       "      <td>1.0</td>\n",
       "    </tr>\n",
       "  </tbody>\n",
       "</table>\n",
       "</div>"
      ],
      "text/plain": [
       "           x          y  class\n",
       "0  34.252978 -11.916370    1.0\n",
       "1  -3.840215  47.563229   -1.0\n",
       "2  22.823709 -47.539106    1.0\n",
       "3  39.019143  31.530198    1.0\n",
       "4  35.329273  17.508157    1.0"
      ]
     },
     "execution_count": 160,
     "metadata": {},
     "output_type": "execute_result"
    }
   ],
   "source": [
    "def training_set(w_star, training_number = 100):\n",
    "    training_x = np.matrix([[1,\n",
    "                             (random.random() - 0.5) * 100,\n",
    "                             (random.random() - 0.5) * 100] \n",
    "                            for i in range(training_number)]).T\n",
    "    training_y = np.sign(w_star.T * training_x)\n",
    "\n",
    "training_df = pd.DataFrame(np.column_stack((training_x[1:3].T, training_y.T)), columns=[\"x\",\"y\",\"class\"])\n",
    "training_df.head()"
   ]
  },
  {
   "cell_type": "code",
   "execution_count": 161,
   "metadata": {},
   "outputs": [
    {
     "data": {
      "application/vnd.vegalite.v1+json": {
       "$schema": "https://vega.github.io/schema/vega-lite/v1.2.1.json",
       "data": {
        "values": [
         {
          "class": 1,
          "x": 34.25297820691506,
          "y": -11.91636993005628
         },
         {
          "class": -1,
          "x": -3.840214841717282,
          "y": 47.563228855393405
         },
         {
          "class": 1,
          "x": 22.823708814122924,
          "y": -47.539106427205056
         },
         {
          "class": 1,
          "x": 39.01914266847369,
          "y": 31.530197988114328
         },
         {
          "class": 1,
          "x": 35.329272709024096,
          "y": 17.508157110014054
         },
         {
          "class": 1,
          "x": 39.60665227664427,
          "y": -40.981099838659205
         },
         {
          "class": 1,
          "x": 16.635072566914012,
          "y": -9.989302624429698
         },
         {
          "class": 1,
          "x": 40.50639905277914,
          "y": -25.307585163199143
         },
         {
          "class": 1,
          "x": 10.691239425515441,
          "y": -29.097458549718922
         },
         {
          "class": -1,
          "x": -33.39144675300366,
          "y": 32.49335904291624
         },
         {
          "class": -1,
          "x": -31.830054617131086,
          "y": 30.45571528635088
         },
         {
          "class": -1,
          "x": -31.68871829554465,
          "y": -42.130417378281514
         },
         {
          "class": 1,
          "x": 25.483567097172966,
          "y": -2.9050507223017386
         },
         {
          "class": -1,
          "x": -27.697226976660716,
          "y": -26.76680647526203
         },
         {
          "class": -1,
          "x": -21.172849825748898,
          "y": 49.55824497151132
         },
         {
          "class": -1,
          "x": -4.637801349251625,
          "y": 34.249854469293496
         },
         {
          "class": -1,
          "x": -39.94251998847253,
          "y": -20.785999512445574
         },
         {
          "class": 1,
          "x": 39.22511008006735,
          "y": 27.947497049850977
         },
         {
          "class": 1,
          "x": 42.10937065513994,
          "y": -28.324240715938597
         },
         {
          "class": 1,
          "x": 5.134971308370462,
          "y": 7.317981069559753
         },
         {
          "class": -1,
          "x": -37.5636819004772,
          "y": -7.544644514356902
         },
         {
          "class": -1,
          "x": -45.93221214729417,
          "y": 8.192648784518408
         },
         {
          "class": 1,
          "x": 40.96643164415502,
          "y": -1.483487119322524
         },
         {
          "class": 1,
          "x": 5.943908884627658,
          "y": -25.858583110173683
         },
         {
          "class": 1,
          "x": 18.691820655696233,
          "y": 27.96440581182701
         },
         {
          "class": 1,
          "x": 28.267570008331976,
          "y": 5.565997053481341
         },
         {
          "class": 1,
          "x": 23.33170887266416,
          "y": -37.485587839178145
         },
         {
          "class": 1,
          "x": 11.274416356171669,
          "y": -7.416728124791561
         },
         {
          "class": -1,
          "x": -9.202691311636556,
          "y": -17.119650183200775
         },
         {
          "class": 1,
          "x": 17.725055806989253,
          "y": -4.978018944084761
         },
         {
          "class": -1,
          "x": -45.39553068150103,
          "y": -20.92291638681655
         },
         {
          "class": -1,
          "x": -18.13126537986971,
          "y": -8.701896861802128
         },
         {
          "class": -1,
          "x": -15.755288809021417,
          "y": -18.723978863189938
         },
         {
          "class": -1,
          "x": -35.86907858942483,
          "y": 42.19685157807047
         },
         {
          "class": -1,
          "x": -36.81481141984014,
          "y": -34.02697146065049
         },
         {
          "class": 1,
          "x": -6.707864972481358,
          "y": -16.67782634401972
         },
         {
          "class": 1,
          "x": 19.829675723963526,
          "y": -35.98359090628323
         },
         {
          "class": -1,
          "x": -43.581863124710154,
          "y": -29.7132974249688
         },
         {
          "class": -1,
          "x": -28.565919518789396,
          "y": -7.192521804677387
         },
         {
          "class": -1,
          "x": -31.964323999109013,
          "y": 40.878625597093034
         },
         {
          "class": 1,
          "x": -3.3653769177601434,
          "y": -43.65882579325533
         },
         {
          "class": 1,
          "x": -5.7564196874375195,
          "y": -38.73303749095951
         },
         {
          "class": -1,
          "x": -26.371720761296746,
          "y": -10.070344899675664
         },
         {
          "class": -1,
          "x": -22.84701569023434,
          "y": -3.0800427256150065
         },
         {
          "class": 1,
          "x": 29.560880061046568,
          "y": -41.73109887812313
         },
         {
          "class": 1,
          "x": 17.19005431264925,
          "y": 0.4164854760275172
         },
         {
          "class": 1,
          "x": -16.60301022211479,
          "y": -43.452890958448606
         },
         {
          "class": -1,
          "x": -30.676331843270045,
          "y": 2.1292512251541496
         },
         {
          "class": 1,
          "x": -22.427312153881417,
          "y": -46.97666324194557
         },
         {
          "class": -1,
          "x": -45.679591609330686,
          "y": -40.40958961087887
         },
         {
          "class": 1,
          "x": 0.030337228344756717,
          "y": -31.078752143846057
         },
         {
          "class": -1,
          "x": -27.536122890178948,
          "y": -11.756322835263312
         },
         {
          "class": -1,
          "x": -38.355018070542904,
          "y": -16.626493949705946
         },
         {
          "class": -1,
          "x": -23.582151669744388,
          "y": 22.83801333521516
         },
         {
          "class": -1,
          "x": -19.944033013414998,
          "y": 21.2870382123043
         },
         {
          "class": 1,
          "x": 16.17857427728332,
          "y": 31.2611702301824
         },
         {
          "class": 1,
          "x": 25.904346554676128,
          "y": 11.382550621370502
         },
         {
          "class": 1,
          "x": 11.672379463069449,
          "y": 21.6993586995343
         },
         {
          "class": 1,
          "x": -10.241395442249646,
          "y": -30.7193261171679
         },
         {
          "class": -1,
          "x": -38.46570426340612,
          "y": 7.265319276376281
         },
         {
          "class": 1,
          "x": 24.23685270221364,
          "y": -34.11399555048988
         },
         {
          "class": 1,
          "x": 33.44015481099544,
          "y": -10.097502472841136
         },
         {
          "class": -1,
          "x": -44.979908451311005,
          "y": -17.77630218799957
         },
         {
          "class": 1,
          "x": 38.93405732171891,
          "y": 1.0150936520798015
         },
         {
          "class": 1,
          "x": 44.00815426855396,
          "y": -49.294432019851044
         },
         {
          "class": -1,
          "x": -12.26213939752877,
          "y": 28.688922619318703
         },
         {
          "class": -1,
          "x": 8.228810376734152,
          "y": 48.24425305406815
         },
         {
          "class": -1,
          "x": -25.612792656865167,
          "y": 44.734088953967166
         },
         {
          "class": -1,
          "x": -23.79553043569541,
          "y": -47.518562476147444
         },
         {
          "class": -1,
          "x": -25.54612140957274,
          "y": -9.74552658176181
         },
         {
          "class": -1,
          "x": -36.193086881656775,
          "y": 25.831237554493924
         },
         {
          "class": -1,
          "x": -16.94640441689956,
          "y": 34.13632992883818
         },
         {
          "class": -1,
          "x": 6.060440545114121,
          "y": 18.847601153490224
         },
         {
          "class": 1,
          "x": -0.4432582665363727,
          "y": -46.96801465017576
         },
         {
          "class": -1,
          "x": -34.94018061051648,
          "y": -19.29534352592689
         },
         {
          "class": 1,
          "x": 47.43955194743982,
          "y": 49.74418536552039
         },
         {
          "class": 1,
          "x": 22.70189461110205,
          "y": -41.381448621758906
         },
         {
          "class": -1,
          "x": -45.68229693676372,
          "y": -6.516256239457174
         },
         {
          "class": 1,
          "x": 40.65684408894402,
          "y": 28.225232629843756
         },
         {
          "class": -1,
          "x": -5.80164239497395,
          "y": 43.75344189160275
         },
         {
          "class": 1,
          "x": 31.917150793963245,
          "y": 21.070302973510014
         },
         {
          "class": 1,
          "x": 7.856742802945749,
          "y": -18.90370509840694
         },
         {
          "class": -1,
          "x": -16.049158726698863,
          "y": 19.55656482403535
         },
         {
          "class": -1,
          "x": -35.54607045863038,
          "y": 17.570486858846234
         },
         {
          "class": -1,
          "x": -27.294421717486205,
          "y": 3.5760810845245294
         },
         {
          "class": -1,
          "x": -21.340700088503294,
          "y": -24.05440575746344
         },
         {
          "class": 1,
          "x": 45.47880089704394,
          "y": 40.287353715822185
         },
         {
          "class": -1,
          "x": -44.2303477949862,
          "y": -45.92532529397372
         },
         {
          "class": 1,
          "x": -7.675760111269591,
          "y": -47.65969363488196
         },
         {
          "class": -1,
          "x": -19.98385282292413,
          "y": -34.63254512574135
         },
         {
          "class": -1,
          "x": -26.188296684621847,
          "y": 42.11088213446925
         },
         {
          "class": -1,
          "x": -48.713531670540945,
          "y": -40.06452709905404
         },
         {
          "class": 1,
          "x": 44.77497596071005,
          "y": -25.654637496989675
         },
         {
          "class": 1,
          "x": 33.61396339429632,
          "y": 23.829409681671898
         },
         {
          "class": 1,
          "x": 43.38394440783955,
          "y": 8.22613240497051
         },
         {
          "class": -1,
          "x": -41.5904338321783,
          "y": 9.806689401997204
         },
         {
          "class": 1,
          "x": 20.684373213958462,
          "y": 4.39840316089346
         },
         {
          "class": -1,
          "x": -37.29613026044621,
          "y": 35.34898663867462
         },
         {
          "class": -1,
          "x": -24.03705936074132,
          "y": -17.88350973732039
         },
         {
          "class": 1,
          "x": 11.199270274837136,
          "y": -33.091687827039394
         }
        ]
       },
       "encoding": {
        "shape": {
         "field": "class",
         "type": "quantitative"
        },
        "x": {
         "field": "x",
         "type": "quantitative"
        },
        "y": {
         "field": "y",
         "type": "quantitative"
        }
       },
       "mark": "point"
      },
      "image/png": "[encoded data removed]",
      "text/plain": [
       "<altair.VegaLite object>"
      ]
     },
     "execution_count": 161,
     "metadata": {},
     "output_type": "execute_result"
    }
   ],
   "source": [
    "alt.Chart(training_df).mark_point().encode(\n",
    "    x='x',\n",
    "    y='y',\n",
    "    shape=\"class\"\n",
    ")"
   ]
  },
  {
   "cell_type": "markdown",
   "metadata": {},
   "source": [
    "Altair is a great graphing package for python that handles high level statistical graphing. Unfortuantely, I haven't figured out how to layer the graph with the actual dividor ($w^*$).\n",
    "\n",
    "Now for the actual perceptron learning algo (PLA).\n"
   ]
  },
  {
   "cell_type": "code",
   "execution_count": 162,
   "metadata": {},
   "outputs": [
    {
     "data": {
      "text/plain": [
       "matrix([[ 36.        ],\n",
       "        [196.65179203],\n",
       "        [-93.44031249]])"
      ]
     },
     "execution_count": 162,
     "metadata": {},
     "output_type": "execute_result"
    }
   ],
   "source": [
    "# intial guess\n",
    "w_trained = np.matrix([0 for i in range(2+1)]).T\n",
    "\n",
    "counter = 0\n",
    "\n",
    "while True:\n",
    "    counter += 1\n",
    "    if counter % 1000 == 0: print(counter)\n",
    "    for i in range(NUMBER_OF_TRAINING):\n",
    "        if np.sign(training_x.T[i] * w_trained) != training_y.T[i]:\n",
    "#             print(\"########\", i)\n",
    "#             print((training_x.T[i].T * training_y.T[2]))\n",
    "            w_trained = w_trained + (training_x.T[i].T * training_y.T[i])\n",
    "            break\n",
    "        else:\n",
    "            continue\n",
    "    if (np.sign(w_trained.T * training_x) == training_y).all():\n",
    "        break\n",
    "w_trained"
   ]
  }
 ],
 "metadata": {
  "kernelspec": {
   "display_name": "Python 3",
   "language": "python",
   "name": "python3"
  },
  "language_info": {
   "codemirror_mode": {
    "name": "ipython",
    "version": 3
   },
   "file_extension": ".py",
   "mimetype": "text/x-python",
   "name": "python",
   "nbconvert_exporter": "python",
   "pygments_lexer": "ipython3",
   "version": "3.6.3"
  }
 },
 "nbformat": 4,
 "nbformat_minor": 2
}
