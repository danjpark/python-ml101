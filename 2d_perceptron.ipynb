{
 "cells": [
  {
   "cell_type": "code",
   "execution_count": 1,
   "metadata": {
    "slideshow": {
     "slide_type": "-"
    }
   },
   "outputs": [],
   "source": [
    "## Import modules as needed\n",
    "import pandas as pd\n",
    "import numpy as np\n",
    "import altair as alt\n",
    "import random\n",
    "\n",
    "## enabling for altair\n",
    "alt.enable_mime_rendering()\n",
    "\n",
    "#Some basic global variables\n",
    "NUMBER_OF_TRAINING = 100"
   ]
  },
  {
   "cell_type": "markdown",
   "metadata": {},
   "source": [
    "We first create the training examples. To do so we need to create\n",
    "1. the true linear seperator ($w^*$)\n",
    "2. generate a list of points ($x$) and its class ($y=h(x)$).\n",
    "\n",
    "Note:\n",
    "We are working in a 2-dimensional space but keep in mind that $x=(1, x_1,x_2)$. The form of the true linear seperator is $[w_0, w_1, w_2]$. And $h(x)=sign(w^Tx)$. If we were to show this as $y = ax + b$ this will be presented in $w_0, w_1, w_2$ as $y=-\\frac{w_1}{w_2}x-\\frac{w_o}{w_2}$\n"
   ]
  },
  {
   "cell_type": "code",
   "execution_count": 8,
   "metadata": {},
   "outputs": [
    {
     "data": {
      "text/plain": [
       "matrix([[-3.40082265],\n",
       "        [-3.82370481],\n",
       "        [ 3.21264163]])"
      ]
     },
     "execution_count": 8,
     "metadata": {},
     "output_type": "execute_result"
    }
   ],
   "source": [
    "w_star = np.matrix([((random.random()-0.5) * 10) for i in range(3)]).T\n",
    "w_star"
   ]
  },
  {
   "cell_type": "code",
   "execution_count": 9,
   "metadata": {},
   "outputs": [
    {
     "data": {
      "text/plain": [
       "matrix([[  1.        ,   1.        ,   1.        ,   1.        ,\n",
       "           1.        ,   1.        ,   1.        ,   1.        ,\n",
       "           1.        ,   1.        ,   1.        ,   1.        ,\n",
       "           1.        ,   1.        ,   1.        ,   1.        ,\n",
       "           1.        ,   1.        ,   1.        ,   1.        ,\n",
       "           1.        ,   1.        ,   1.        ,   1.        ,\n",
       "           1.        ,   1.        ,   1.        ,   1.        ,\n",
       "           1.        ,   1.        ,   1.        ,   1.        ,\n",
       "           1.        ,   1.        ,   1.        ,   1.        ,\n",
       "           1.        ,   1.        ,   1.        ,   1.        ,\n",
       "           1.        ,   1.        ,   1.        ,   1.        ,\n",
       "           1.        ,   1.        ,   1.        ,   1.        ,\n",
       "           1.        ,   1.        ,   1.        ,   1.        ,\n",
       "           1.        ,   1.        ,   1.        ,   1.        ,\n",
       "           1.        ,   1.        ,   1.        ,   1.        ,\n",
       "           1.        ,   1.        ,   1.        ,   1.        ,\n",
       "           1.        ,   1.        ,   1.        ,   1.        ,\n",
       "           1.        ,   1.        ,   1.        ,   1.        ,\n",
       "           1.        ,   1.        ,   1.        ,   1.        ,\n",
       "           1.        ,   1.        ,   1.        ,   1.        ,\n",
       "           1.        ,   1.        ,   1.        ,   1.        ,\n",
       "           1.        ,   1.        ,   1.        ,   1.        ,\n",
       "           1.        ,   1.        ,   1.        ,   1.        ,\n",
       "           1.        ,   1.        ,   1.        ,   1.        ,\n",
       "           1.        ,   1.        ,   1.        ,   1.        ],\n",
       "        [-17.78524472,  43.45404083, -10.44896544, -28.802575  ,\n",
       "          20.13598444,  28.99777903,  26.43713064, -32.82723105,\n",
       "         -13.71696298,  47.17696689, -37.26490483,   8.71773863,\n",
       "          44.52504634, -42.57054784,  39.6946909 ,  47.16772665,\n",
       "           7.42548284, -30.66132941,  29.4692324 , -31.60586357,\n",
       "          -2.66950083,  25.47776151,  42.78932825,  38.48083621,\n",
       "         -41.16151325, -31.84341877,  16.60049369, -17.40123522,\n",
       "          31.52957577,   8.21794948, -43.61837399, -39.26650468,\n",
       "           2.63452522,  35.07067256,  41.0873734 ,  -7.87844674,\n",
       "          -1.84272225, -28.12382507,  14.31868233,  36.12637231,\n",
       "          22.27060244,  16.81634472, -15.34331081, -26.28480142,\n",
       "          -3.16688383,  41.86255549, -34.7036976 , -18.76806267,\n",
       "         -11.65842325,  40.02505702,  14.51434648,  39.77826368,\n",
       "          10.95827372,  31.67854133,   5.26610531,   1.60854119,\n",
       "         -33.82175428, -26.01303368, -13.85373345, -23.96636715,\n",
       "          40.89311341, -34.46825424, -13.48700371,  -7.50223501,\n",
       "           2.40776064,   1.26878467, -48.25683301, -36.70263225,\n",
       "         -28.15740161, -28.98836542,  19.62200624,   5.93924069,\n",
       "          -0.61827261, -13.88429819,  34.83525015,   3.23552138,\n",
       "         -38.48416589, -43.24241551,  29.55487304, -21.98766455,\n",
       "         -26.9045213 , -34.95642353, -10.31067108,  -2.97503284,\n",
       "          46.35737126, -31.00233401, -22.73543086, -30.11103657,\n",
       "          29.8450833 ,  26.19246839,  15.65362555,  12.25895694,\n",
       "         -39.60412169,   4.3831533 ,  29.43382165,  30.34490987,\n",
       "         -18.45740734,  48.53335077, -25.12440703, -11.74612898],\n",
       "        [-38.22166058,  20.22876954,  35.18510427,   0.87842219,\n",
       "          -0.19910667, -31.08917146, -30.20468802,   9.51120919,\n",
       "          -1.30808986,  -4.27358081,  29.67645911, -46.18390774,\n",
       "          45.53431729,  28.75628577,   5.69969298,  -7.11617269,\n",
       "         -42.5426855 ,  15.48912085,  -6.79617104,  -5.4779674 ,\n",
       "          40.0953376 , -16.27609142, -48.73854074,  31.59362139,\n",
       "          11.08402057,  15.81344269,  25.37098838, -18.50981294,\n",
       "         -33.49483538, -33.5940265 ,  41.1729101 , -36.74054771,\n",
       "          25.71999422,  -8.91813229, -31.26877519,  39.15744111,\n",
       "          46.75027981,  -6.88071549,  -2.59894238,  10.39077461,\n",
       "          15.34095922,  40.57232803,  -2.1857841 ,   3.16675995,\n",
       "         -38.61574329,  46.42913799, -34.94388856,  22.6935294 ,\n",
       "         -30.48030771,  13.21166971, -21.71178315,  40.20179645,\n",
       "          23.10572081, -16.52579938, -45.85917644,   7.92034569,\n",
       "           8.10410944, -19.14784549, -27.44135952, -17.88399683,\n",
       "          33.64844954, -30.88666096,  24.29221044, -33.15258376,\n",
       "         -39.76484771, -14.5763145 , -45.20451354, -23.45369644,\n",
       "         -44.06607906,  36.86510764,  25.9970846 , -26.442575  ,\n",
       "          -0.14054748, -29.29696776,  45.03669542, -10.6655033 ,\n",
       "          -6.59989498, -15.56856579,   1.38478289,  -7.79922083,\n",
       "          26.46290628, -15.69617802,   8.11625853,  30.209304  ,\n",
       "           8.72966837, -22.9274385 ,  36.82417136,  44.13205323,\n",
       "          42.52278588, -37.80449385,  47.44236874, -14.67269499,\n",
       "         -39.42595097, -19.47555304,  -5.32333729,  -8.87311482,\n",
       "         -46.77605511, -49.34941736,  18.08620713, -12.80769234]])"
      ]
     },
     "execution_count": 9,
     "metadata": {},
     "output_type": "execute_result"
    }
   ],
   "source": [
    "training_x = np.matrix([[1,\n",
    "                         (random.random() - 0.5) * 100,\n",
    "                         (random.random() - 0.5) * 100] \n",
    "                        for i in range(NUMBER_OF_TRAINING)]).T\n",
    "training_y = np.sign(w_star.T * training_x)\n",
    "\n",
    "training_x"
   ]
  },
  {
   "cell_type": "markdown",
   "metadata": {},
   "source": [
    "Now we set up 100 random training_x and calculate the training_y"
   ]
  },
  {
   "cell_type": "code",
   "execution_count": 10,
   "metadata": {},
   "outputs": [
    {
     "data": {
      "text/html": [
       "<div>\n",
       "<style scoped>\n",
       "    .dataframe tbody tr th:only-of-type {\n",
       "        vertical-align: middle;\n",
       "    }\n",
       "\n",
       "    .dataframe tbody tr th {\n",
       "        vertical-align: top;\n",
       "    }\n",
       "\n",
       "    .dataframe thead th {\n",
       "        text-align: right;\n",
       "    }\n",
       "</style>\n",
       "<table border=\"1\" class=\"dataframe\">\n",
       "  <thead>\n",
       "    <tr style=\"text-align: right;\">\n",
       "      <th></th>\n",
       "      <th>x</th>\n",
       "      <th>y</th>\n",
       "      <th>class</th>\n",
       "    </tr>\n",
       "  </thead>\n",
       "  <tbody>\n",
       "    <tr>\n",
       "      <th>0</th>\n",
       "      <td>-18.290559</td>\n",
       "      <td>-12.045243</td>\n",
       "      <td>1.0</td>\n",
       "    </tr>\n",
       "    <tr>\n",
       "      <th>1</th>\n",
       "      <td>-11.609291</td>\n",
       "      <td>-47.441941</td>\n",
       "      <td>-1.0</td>\n",
       "    </tr>\n",
       "    <tr>\n",
       "      <th>2</th>\n",
       "      <td>46.471690</td>\n",
       "      <td>36.088964</td>\n",
       "      <td>-1.0</td>\n",
       "    </tr>\n",
       "    <tr>\n",
       "      <th>3</th>\n",
       "      <td>26.669729</td>\n",
       "      <td>-16.535514</td>\n",
       "      <td>-1.0</td>\n",
       "    </tr>\n",
       "    <tr>\n",
       "      <th>4</th>\n",
       "      <td>-13.784718</td>\n",
       "      <td>-31.218799</td>\n",
       "      <td>-1.0</td>\n",
       "    </tr>\n",
       "  </tbody>\n",
       "</table>\n",
       "</div>"
      ],
      "text/plain": [
       "           x          y  class\n",
       "0 -18.290559 -12.045243    1.0\n",
       "1 -11.609291 -47.441941   -1.0\n",
       "2  46.471690  36.088964   -1.0\n",
       "3  26.669729 -16.535514   -1.0\n",
       "4 -13.784718 -31.218799   -1.0"
      ]
     },
     "execution_count": 10,
     "metadata": {},
     "output_type": "execute_result"
    }
   ],
   "source": [
    "training_x = np.matrix([[1,\n",
    "                         (random.random() - 0.5) * 100,\n",
    "                         (random.random() - 0.5) * 100] \n",
    "                        for i in range(NUMBER_OF_TRAINING)]).T\n",
    "training_y = np.sign(w_star.T * training_x)\n",
    "\n",
    "training_df = pd.DataFrame(np.column_stack((training_x[1:3].T, training_y.T)), columns=[\"x\",\"y\",\"class\"])\n",
    "training_df.head()"
   ]
  },
  {
   "cell_type": "code",
   "execution_count": 11,
   "metadata": {},
   "outputs": [
    {
     "data": {
      "application/vnd.vegalite.v1+json": {
       "$schema": "https://vega.github.io/schema/vega-lite/v1.2.1.json",
       "data": {
        "values": [
         {
          "class": 1,
          "x": -18.290558690720328,
          "y": -12.045243473336352
         },
         {
          "class": -1,
          "x": -11.60929122240698,
          "y": -47.44194084280956
         },
         {
          "class": -1,
          "x": 46.47168950854426,
          "y": 36.08896376813168
         },
         {
          "class": -1,
          "x": 26.669728714421403,
          "y": -16.53551366930732
         },
         {
          "class": -1,
          "x": -13.78471822760332,
          "y": -31.218798852986353
         },
         {
          "class": -1,
          "x": 2.588608569322959,
          "y": -6.518451658011648
         },
         {
          "class": -1,
          "x": 45.92372182934143,
          "y": -29.13460941050381
         },
         {
          "class": -1,
          "x": 41.26581873799916,
          "y": 33.57284567778156
         },
         {
          "class": -1,
          "x": 33.825170880877394,
          "y": 27.180957680525353
         },
         {
          "class": -1,
          "x": 44.64574946032056,
          "y": 24.768456504376324
         },
         {
          "class": 1,
          "x": -7.195276231561976,
          "y": 0.5599426333954161
         },
         {
          "class": 1,
          "x": -25.209404887943332,
          "y": 10.388456532216427
         },
         {
          "class": -1,
          "x": 21.17967017360627,
          "y": -12.437513326181326
         },
         {
          "class": 1,
          "x": -30.477878335758124,
          "y": -10.825903688045436
         },
         {
          "class": 1,
          "x": 14.39975741043289,
          "y": 33.95113189088272
         },
         {
          "class": 1,
          "x": -37.34842142634703,
          "y": 33.20234918348034
         },
         {
          "class": 1,
          "x": -9.315647319075026,
          "y": 30.8545475035217
         },
         {
          "class": 1,
          "x": -8.580143368623649,
          "y": 20.539006707106978
         },
         {
          "class": -1,
          "x": 36.6721946578154,
          "y": 3.696481485882064
         },
         {
          "class": -1,
          "x": 26.314222692419587,
          "y": -34.054929323934516
         },
         {
          "class": 1,
          "x": -7.852496266525022,
          "y": 20.905354196194203
         },
         {
          "class": 1,
          "x": -40.0304427687369,
          "y": 15.815268270521067
         },
         {
          "class": -1,
          "x": 18.618108125087453,
          "y": -22.403771662149254
         },
         {
          "class": 1,
          "x": -39.021598794293375,
          "y": -40.73777017348321
         },
         {
          "class": 1,
          "x": -46.507030545351135,
          "y": 42.65394363188659
         },
         {
          "class": 1,
          "x": -20.490447767070542,
          "y": 24.90260846982373
         },
         {
          "class": -1,
          "x": 6.805989020314607,
          "y": 2.3496324979590977
         },
         {
          "class": -1,
          "x": -14.702935215630186,
          "y": -38.83140995993726
         },
         {
          "class": 1,
          "x": -46.217991258703485,
          "y": 44.84351923180681
         },
         {
          "class": -1,
          "x": 0.7988026612177568,
          "y": 0.5759623741662612
         },
         {
          "class": -1,
          "x": -19.069541139630953,
          "y": -32.03367416038746
         },
         {
          "class": -1,
          "x": -2.228017555553874,
          "y": -15.934271314950465
         },
         {
          "class": 1,
          "x": -30.193096252323304,
          "y": 29.028839405675345
         },
         {
          "class": -1,
          "x": 30.897621580532807,
          "y": -42.34460850733056
         },
         {
          "class": -1,
          "x": 4.020522681276651,
          "y": -2.6990822342828347
         },
         {
          "class": 1,
          "x": -48.445511943082195,
          "y": -16.438684604735577
         },
         {
          "class": 1,
          "x": -8.1868372639608,
          "y": 17.505101655088183
         },
         {
          "class": -1,
          "x": 6.556396827071009,
          "y": 7.419431747997452
         },
         {
          "class": -1,
          "x": -33.60528130753519,
          "y": -45.977637301266725
         },
         {
          "class": -1,
          "x": 41.029644991491764,
          "y": 16.980085861584627
         },
         {
          "class": 1,
          "x": 7.7795888882315145,
          "y": 26.598551797015546
         },
         {
          "class": 1,
          "x": -28.24561675687728,
          "y": -6.9502676584271565
         },
         {
          "class": -1,
          "x": 49.1793688209058,
          "y": 10.127947048651187
         },
         {
          "class": 1,
          "x": -23.000804439213862,
          "y": 32.62484132298164
         },
         {
          "class": -1,
          "x": 39.83497414756849,
          "y": -36.024721621007025
         },
         {
          "class": 1,
          "x": -31.34138906243352,
          "y": -33.16044090500018
         },
         {
          "class": -1,
          "x": 13.304182039121581,
          "y": -15.02527324106293
         },
         {
          "class": -1,
          "x": 21.690233564615212,
          "y": -9.381491505270745
         },
         {
          "class": 1,
          "x": -14.39015444614079,
          "y": 6.704156711399401
         },
         {
          "class": -1,
          "x": -25.617277266941997,
          "y": -40.199499061655985
         },
         {
          "class": 1,
          "x": -49.33762359304878,
          "y": -20.455155947038506
         },
         {
          "class": -1,
          "x": -10.106250373913038,
          "y": -28.185903878287945
         },
         {
          "class": -1,
          "x": 16.12544210512462,
          "y": 14.69733691341306
         },
         {
          "class": 1,
          "x": -49.59194262051562,
          "y": 15.56593502138426
         },
         {
          "class": -1,
          "x": 40.70222686311502,
          "y": -1.5224651605555861
         },
         {
          "class": -1,
          "x": 28.51100899772465,
          "y": 19.026120200541353
         },
         {
          "class": -1,
          "x": 16.185517025190332,
          "y": -18.125314528634384
         },
         {
          "class": -1,
          "x": 11.705035547894704,
          "y": 9.524193732020091
         },
         {
          "class": -1,
          "x": 32.49610144308504,
          "y": 35.227058385867
         },
         {
          "class": -1,
          "x": 46.46473428953585,
          "y": 25.65773048133959
         },
         {
          "class": -1,
          "x": 31.929312148321277,
          "y": 32.8880343780276
         },
         {
          "class": 1,
          "x": 35.031795733359075,
          "y": 45.150412664375516
         },
         {
          "class": 1,
          "x": 15.300122747925382,
          "y": 27.571364373278552
         },
         {
          "class": 1,
          "x": -22.327429400307754,
          "y": 31.798263288089068
         },
         {
          "class": -1,
          "x": 12.588672993748729,
          "y": 7.838645297068436
         },
         {
          "class": 1,
          "x": -41.52095448705081,
          "y": 35.94532410301
         },
         {
          "class": -1,
          "x": 35.91246010981413,
          "y": 9.734734074176343
         },
         {
          "class": 1,
          "x": -28.65140253714665,
          "y": -11.598332289901991
         },
         {
          "class": -1,
          "x": 48.08376954062952,
          "y": -15.54409123962679
         },
         {
          "class": 1,
          "x": -48.228310753437434,
          "y": -20.56045583680485
         },
         {
          "class": -1,
          "x": 6.052485515913397,
          "y": 4.296573492710087
         },
         {
          "class": -1,
          "x": -3.3565718774566267,
          "y": -44.25439331739811
         },
         {
          "class": -1,
          "x": -34.30883247804789,
          "y": -41.22498536237465
         },
         {
          "class": -1,
          "x": 6.312760437543663,
          "y": -0.0761080246140744
         },
         {
          "class": 1,
          "x": -16.371504391049886,
          "y": 12.79260990422786
         },
         {
          "class": 1,
          "x": -25.02743063864764,
          "y": 15.671290045271425
         },
         {
          "class": -1,
          "x": 32.78954854327575,
          "y": -34.36035370934817
         },
         {
          "class": -1,
          "x": 47.0925009292793,
          "y": 2.514655838855595
         },
         {
          "class": -1,
          "x": 16.147463425303688,
          "y": -44.89888663164745
         },
         {
          "class": -1,
          "x": 2.86362375133975,
          "y": -28.978236769051602
         },
         {
          "class": -1,
          "x": 48.4858061270011,
          "y": 21.089253295416967
         },
         {
          "class": -1,
          "x": -5.176380036513162,
          "y": -9.457122475010838
         },
         {
          "class": 1,
          "x": -46.6871757176026,
          "y": 18.044532498788456
         },
         {
          "class": 1,
          "x": -44.26084486646822,
          "y": -30.559624118626473
         },
         {
          "class": 1,
          "x": -47.11762574470043,
          "y": -6.216069639601763
         },
         {
          "class": -1,
          "x": 24.77561675230947,
          "y": 28.648220810045157
         },
         {
          "class": 1,
          "x": -41.73238417049738,
          "y": 21.421789993499296
         },
         {
          "class": -1,
          "x": 16.983443540895117,
          "y": 8.958813188388104
         },
         {
          "class": -1,
          "x": -19.2137761535636,
          "y": -37.542868135218185
         },
         {
          "class": -1,
          "x": 34.83766811248601,
          "y": -28.231028150557425
         },
         {
          "class": -1,
          "x": 27.090949302915202,
          "y": -19.551285614986735
         },
         {
          "class": -1,
          "x": 36.464995997237345,
          "y": -0.568240356739047
         },
         {
          "class": 1,
          "x": -19.66638220731751,
          "y": -18.19151137056646
         },
         {
          "class": -1,
          "x": -14.137072485636526,
          "y": -27.69028263074118
         },
         {
          "class": -1,
          "x": 28.08896202709217,
          "y": -27.810637577151265
         },
         {
          "class": -1,
          "x": 39.22205531314326,
          "y": 3.22775841650339
         },
         {
          "class": -1,
          "x": -24.618860377906326,
          "y": -32.400321244837535
         },
         {
          "class": -1,
          "x": 39.55385325126609,
          "y": 5.27373360450617
         },
         {
          "class": 1,
          "x": 34.90304695532187,
          "y": 45.36223158589334
         },
         {
          "class": 1,
          "x": 7.447806761499354,
          "y": 24.60558074737137
         }
        ]
       },
       "encoding": {
        "shape": {
         "field": "class",
         "type": "quantitative"
        },
        "x": {
         "field": "x",
         "type": "quantitative"
        },
        "y": {
         "field": "y",
         "type": "quantitative"
        }
       },
       "mark": "point"
      },
      "image/png": "[encoded data removed]",
      "text/plain": [
       "<altair.VegaLite object>"
      ]
     },
     "execution_count": 11,
     "metadata": {},
     "output_type": "execute_result"
    }
   ],
   "source": [
    "alt.Chart(training_df).mark_point().encode(\n",
    "    x='x',\n",
    "    y='y',\n",
    "    shape=\"class\"\n",
    ")"
   ]
  },
  {
   "cell_type": "markdown",
   "metadata": {},
   "source": [
    "Altair is a great graphing package for python that handles high level statistical graphing. Unfortuantely, I haven't figured out how to layer the graph with the actual dividor ($w^*$).\n",
    "\n",
    "Now for the actual perceptron learning algo (PLA).\n"
   ]
  },
  {
   "cell_type": "code",
   "execution_count": 12,
   "metadata": {},
   "outputs": [
    {
     "data": {
      "text/plain": [
       "matrix([[ -15.        ],\n",
       "        [-204.06566256],\n",
       "        [ 170.2511388 ]])"
      ]
     },
     "execution_count": 12,
     "metadata": {},
     "output_type": "execute_result"
    }
   ],
   "source": [
    "# intial guess\n",
    "w_trained = np.matrix([0 for i in range(2+1)]).T\n",
    "\n",
    "counter = 0\n",
    "\n",
    "while True:\n",
    "    counter += 1\n",
    "    if counter % 1000 == 0: print(counter)\n",
    "    for i in range(NUMBER_OF_TRAINING):\n",
    "        if np.sign(training_x.T[i] * w_trained) != training_y.T[i]:\n",
    "#             print(\"########\", i)\n",
    "#             print((training_x.T[i].T * training_y.T[2]))\n",
    "            w_trained = w_trained + (training_x.T[i].T * training_y.T[i])\n",
    "            break\n",
    "        else:\n",
    "            continue\n",
    "    if (np.sign(w_trained.T * training_x) == training_y).all():\n",
    "        break\n",
    "\n",
    "w_trained\n",
    "\n",
    "# write something to normalize the array\n",
    "# also make sure to do the same to w_Star at teh beginngin"
   ]
  },
  {
   "cell_type": "code",
   "execution_count": null,
   "metadata": {},
   "outputs": [],
   "source": []
  },
  {
   "cell_type": "code",
   "execution_count": null,
   "metadata": {},
   "outputs": [],
   "source": []
  }
 ],
 "metadata": {
  "kernelspec": {
   "display_name": "Python 3",
   "language": "python",
   "name": "python3"
  },
  "language_info": {
   "codemirror_mode": {
    "name": "ipython",
    "version": 3
   },
   "file_extension": ".py",
   "mimetype": "text/x-python",
   "name": "python",
   "nbconvert_exporter": "python",
   "pygments_lexer": "ipython3",
   "version": "3.6.3"
  }
 },
 "nbformat": 4,
 "nbformat_minor": 2
}
