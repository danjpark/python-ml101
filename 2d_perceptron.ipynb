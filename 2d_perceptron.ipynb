{
 "cells": [
  {
   "cell_type": "code",
   "execution_count": 57,
   "metadata": {
    "slideshow": {
     "slide_type": "-"
    }
   },
   "outputs": [],
   "source": [
    "## Import modules as needed\n",
    "import pandas as pd\n",
    "import numpy as np\n",
    "import altair as alt\n",
    "import random\n",
    "\n",
    "## enabling for altair\n",
    "alt.enable_mime_rendering()\n",
    "\n",
    "#Some basic global variables\n",
    "NUMBER_OF_TRAINING = 4"
   ]
  },
  {
   "cell_type": "markdown",
   "metadata": {},
   "source": [
    "We first create the training examples. To do so we need to create\n",
    "1. the true linear seperator ($w^*$)\n",
    "2. generate a list of points ($x$) and its class ($y=h(x)$).\n",
    "\n",
    "Note:\n",
    "We are working in a 2-dimensional space but keep in mind that $x=(1, x_1,x_2)$. The form of the true linear seperator is $[w_0, w_1, w_2]$. And $h(x)=sign(w^Tx)$. If we were to show this as $y = ax + b$ this will be presented in $w_0, w_1, w_2$ as $y=-\\frac{w_1}{w_2}x-\\frac{w_o}{w_2}$\n"
   ]
  },
  {
   "cell_type": "code",
   "execution_count": 58,
   "metadata": {},
   "outputs": [
    {
     "data": {
      "text/plain": [
       "matrix([[-4.87882193],\n",
       "        [-4.22391785],\n",
       "        [-4.98198075]])"
      ]
     },
     "execution_count": 58,
     "metadata": {},
     "output_type": "execute_result"
    }
   ],
   "source": [
    "w_star = np.matrix([((random.random()-0.5) * 10) for i in range(3)]).T\n",
    "w_star"
   ]
  },
  {
   "cell_type": "markdown",
   "metadata": {},
   "source": [
    "Now we set up 100 random training_x and calculate the training_y"
   ]
  },
  {
   "cell_type": "code",
   "execution_count": 59,
   "metadata": {},
   "outputs": [
    {
     "data": {
      "text/html": [
       "<div>\n",
       "<style scoped>\n",
       "    .dataframe tbody tr th:only-of-type {\n",
       "        vertical-align: middle;\n",
       "    }\n",
       "\n",
       "    .dataframe tbody tr th {\n",
       "        vertical-align: top;\n",
       "    }\n",
       "\n",
       "    .dataframe thead th {\n",
       "        text-align: right;\n",
       "    }\n",
       "</style>\n",
       "<table border=\"1\" class=\"dataframe\">\n",
       "  <thead>\n",
       "    <tr style=\"text-align: right;\">\n",
       "      <th></th>\n",
       "      <th>x</th>\n",
       "      <th>y</th>\n",
       "      <th>class</th>\n",
       "    </tr>\n",
       "  </thead>\n",
       "  <tbody>\n",
       "    <tr>\n",
       "      <th>0</th>\n",
       "      <td>44.039926</td>\n",
       "      <td>-46.942304</td>\n",
       "      <td>1.0</td>\n",
       "    </tr>\n",
       "    <tr>\n",
       "      <th>1</th>\n",
       "      <td>-27.283299</td>\n",
       "      <td>30.204012</td>\n",
       "      <td>-1.0</td>\n",
       "    </tr>\n",
       "    <tr>\n",
       "      <th>2</th>\n",
       "      <td>20.974049</td>\n",
       "      <td>42.403852</td>\n",
       "      <td>-1.0</td>\n",
       "    </tr>\n",
       "    <tr>\n",
       "      <th>3</th>\n",
       "      <td>-45.126426</td>\n",
       "      <td>48.907871</td>\n",
       "      <td>-1.0</td>\n",
       "    </tr>\n",
       "  </tbody>\n",
       "</table>\n",
       "</div>"
      ],
      "text/plain": [
       "           x          y  class\n",
       "0  44.039926 -46.942304    1.0\n",
       "1 -27.283299  30.204012   -1.0\n",
       "2  20.974049  42.403852   -1.0\n",
       "3 -45.126426  48.907871   -1.0"
      ]
     },
     "execution_count": 59,
     "metadata": {},
     "output_type": "execute_result"
    }
   ],
   "source": [
    "training_x = np.matrix([[1,\n",
    "                         (random.random() - 0.5) * 100,\n",
    "                         (random.random() - 0.5) * 100] \n",
    "                        for i in range(NUMBER_OF_TRAINING)]).T\n",
    "\n",
    "training_y = np.sign(w_star.T * training_x)\n",
    "\n",
    "training_df = pd.DataFrame(np.column_stack((training_x[1:3].T, training_y.T)), columns=[\"x\",\"y\",\"class\"])\n",
    "training_df.head()"
   ]
  },
  {
   "cell_type": "code",
   "execution_count": 60,
   "metadata": {},
   "outputs": [
    {
     "data": {
      "application/vnd.vegalite.v1+json": {
       "$schema": "https://vega.github.io/schema/vega-lite/v1.2.1.json",
       "data": {
        "values": [
         {
          "class": 1,
          "x": 44.03992612398192,
          "y": -46.94230351451333
         },
         {
          "class": -1,
          "x": -27.28329855382936,
          "y": 30.204011841193857
         },
         {
          "class": -1,
          "x": 20.974049255721628,
          "y": 42.403852280367296
         },
         {
          "class": -1,
          "x": -45.12642608853966,
          "y": 48.90787093294976
         }
        ]
       },
       "encoding": {
        "shape": {
         "field": "class",
         "type": "quantitative"
        },
        "x": {
         "field": "x",
         "type": "quantitative"
        },
        "y": {
         "field": "y",
         "type": "quantitative"
        }
       },
       "mark": "point"
      },
      "image/png": "[encoded data removed]",
      "text/plain": [
       "<altair.VegaLite object>"
      ]
     },
     "execution_count": 60,
     "metadata": {},
     "output_type": "execute_result"
    }
   ],
   "source": [
    "alt.Chart(training_df).mark_point().encode(\n",
    "    x='x',\n",
    "    y='y',\n",
    "    shape=\"class\"\n",
    ")"
   ]
  },
  {
   "cell_type": "markdown",
   "metadata": {},
   "source": [
    "Altair is a great graphing package for python that handles high level statistical graphing. Unfortuantely, I haven't figured out how to layer the graph with the actual dividor ($w^*$).\n",
    "\n",
    "Now for the actual perceptron learning algo (PLA).\n"
   ]
  },
  {
   "cell_type": "code",
   "execution_count": 74,
   "metadata": {},
   "outputs": [
    {
     "data": {
      "text/plain": [
       "matrix([[  1.        ,   1.        ,   1.        ,   1.        ],\n",
       "        [ 44.03992612, -27.28329855,  20.97404926, -45.12642609],\n",
       "        [-46.94230351,  30.20401184,  42.40385228,  48.90787093]])"
      ]
     },
     "execution_count": 74,
     "metadata": {},
     "output_type": "execute_result"
    }
   ],
   "source": [
    "# intial guess\n",
    "w_trained = np.matrix([0 for i in range(2+1)]).T\n",
    "\n",
    "counter = 0\n",
    "\n",
    "while True:\n",
    "    counter += 1\n",
    "#     if counter % 10 == 0:\n",
    "#         print(counter)\n",
    "    for i in range(NUMBER_OF_TRAINING):\n",
    "        pass\n",
    "    w_trained = w_trained + (training_x * training_y.T)\n",
    "#     print(w_trained.T)\n",
    "    \n",
    "    if(counter > 25):\n",
    "        break\n",
    "training_x"
   ]
  },
  {
   "cell_type": "code",
   "execution_count": 77,
   "metadata": {},
   "outputs": [
    {
     "name": "stdout",
     "output_type": "stream",
     "text": [
      "0\n",
      "[[0.]]\n",
      "[[0.]]\n",
      "[[0.]]\n",
      "[[0.]]\n"
     ]
    }
   ],
   "source": [
    "w_trained = np.matrix([0 for i in range(2+1)]).T\n",
    "\n",
    "print(np.sign(0))\n",
    "for i in range(NUMBER_OF_TRAINING):\n",
    "    if (training_x.T[i] * w_trained) != training_y.T[i]:\n",
    "        w_trained = w_trained + \n",
    "# eachColumn in training_x.T:\n",
    "#     print(eachColumn * w_trained)\n",
    "\n"
   ]
  },
  {
   "cell_type": "code",
   "execution_count": 83,
   "metadata": {},
   "outputs": [
    {
     "data": {
      "text/plain": [
       "matrix([[-46.94230351,  30.20401184,  42.40385228,  48.90787093]])"
      ]
     },
     "execution_count": 83,
     "metadata": {},
     "output_type": "execute_result"
    }
   ],
   "source": [
    "training_x[2]"
   ]
  },
  {
   "cell_type": "code",
   "execution_count": null,
   "metadata": {},
   "outputs": [],
   "source": [
    "w_trained = [0 for i in range(2)]\n",
    "w_trained = np.matrix([0] + w_trained).T\n",
    "w_trained"
   ]
  },
  {
   "cell_type": "code",
   "execution_count": null,
   "metadata": {},
   "outputs": [],
   "source": [
    "training_x * training_y.T"
   ]
  },
  {
   "cell_type": "code",
   "execution_count": null,
   "metadata": {},
   "outputs": [],
   "source": []
  }
 ],
 "metadata": {
  "kernelspec": {
   "display_name": "Python 3",
   "language": "python",
   "name": "python3"
  },
  "language_info": {
   "codemirror_mode": {
    "name": "ipython",
    "version": 3
   },
   "file_extension": ".py",
   "mimetype": "text/x-python",
   "name": "python",
   "nbconvert_exporter": "python",
   "pygments_lexer": "ipython3",
   "version": "3.6.3"
  }
 },
 "nbformat": 4,
 "nbformat_minor": 2
}
