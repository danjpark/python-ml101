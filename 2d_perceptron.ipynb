{
 "cells": [
  {
   "cell_type": "code",
   "execution_count": 7,
   "metadata": {
    "slideshow": {
     "slide_type": "-"
    }
   },
   "outputs": [],
   "source": [
    "## Import modules as needed\n",
    "import pandas as pd\n",
    "import numpy as np\n",
    "import altair as alt\n",
    "import random\n",
    "\n",
    "## enabling for altair\n",
    "alt.enable_mime_rendering()\n",
    "\n",
    "#Some basic global variables\n",
    "NUMBER_OF_TRAINING = 100"
   ]
  },
  {
   "cell_type": "markdown",
   "metadata": {},
   "source": [
    "We first create the training examples. To do so we need to create\n",
    "1. the true linear seperator ($w^*$)\n",
    "2. generate a list of points ($x$) and its class ($y=h(x)$).\n",
    "\n",
    "Note:\n",
    "We are working in a 2-dimensional space but keep in mind that $x=(1, x_1,x_2)$. The form of the true linear seperator is $[w_0, w_1, w_2]$. And $h(x)=sign(w^Tx)$. If we were to show this as $y = ax + b$ this will be presented in $w_0, w_1, w_2$ as $y=-\\frac{w_1}{w_2}x-\\frac{w_o}{w_2}$\n"
   ]
  },
  {
   "cell_type": "code",
   "execution_count": 8,
   "metadata": {},
   "outputs": [
    {
     "data": {
      "text/plain": [
       "matrix([[0.4120266 ],\n",
       "        [1.15295868],\n",
       "        [3.3576946 ]])"
      ]
     },
     "execution_count": 8,
     "metadata": {},
     "output_type": "execute_result"
    }
   ],
   "source": [
    "w_star = np.matrix([((random.random()-0.5) * 10) for i in range(3)]).T\n",
    "w_star"
   ]
  },
  {
   "cell_type": "code",
   "execution_count": 9,
   "metadata": {},
   "outputs": [
    {
     "data": {
      "text/plain": [
       "matrix([[  1.        ,   1.        ,   1.        ,   1.        ],\n",
       "        [ 11.23526576, -37.89738811,  11.33235342,  21.3292543 ],\n",
       "        [-43.10852378, -12.47465809,  -1.80180059,  10.13668991]])"
      ]
     },
     "execution_count": 9,
     "metadata": {},
     "output_type": "execute_result"
    }
   ],
   "source": [
    "training_x = np.matrix([[1,\n",
    "                         (random.random() - 0.5) * 100,\n",
    "                         (random.random() - 0.5) * 100] \n",
    "                        for i in range(NUMBER_OF_TRAINING)]).T\n",
    "training_y = np.sign(w_star.T * training_x)\n",
    "\n",
    "training_x"
   ]
  },
  {
   "cell_type": "markdown",
   "metadata": {},
   "source": [
    "Now we set up 100 random training_x and calculate the training_y"
   ]
  },
  {
   "cell_type": "code",
   "execution_count": 1,
   "metadata": {},
   "outputs": [
    {
     "ename": "NameError",
     "evalue": "name 'np' is not defined",
     "output_type": "error",
     "traceback": [
      "\u001b[0;31m---------------------------------------------------------------------------\u001b[0m",
      "\u001b[0;31mNameError\u001b[0m                                 Traceback (most recent call last)",
      "\u001b[0;32m<ipython-input-1-314227e9e467>\u001b[0m in \u001b[0;36m<module>\u001b[0;34m()\u001b[0m\n\u001b[0;32m----> 1\u001b[0;31m training_x = np.matrix([[1,\n\u001b[0m\u001b[1;32m      2\u001b[0m                          \u001b[0;34m(\u001b[0m\u001b[0mrandom\u001b[0m\u001b[0;34m.\u001b[0m\u001b[0mrandom\u001b[0m\u001b[0;34m(\u001b[0m\u001b[0;34m)\u001b[0m \u001b[0;34m-\u001b[0m \u001b[0;36m0.5\u001b[0m\u001b[0;34m)\u001b[0m \u001b[0;34m*\u001b[0m \u001b[0;36m100\u001b[0m\u001b[0;34m,\u001b[0m\u001b[0;34m\u001b[0m\u001b[0m\n\u001b[1;32m      3\u001b[0m                          (random.random() - 0.5) * 100] \n\u001b[1;32m      4\u001b[0m                         for i in range(training_number)]).T\n\u001b[1;32m      5\u001b[0m \u001b[0mtraining_y\u001b[0m \u001b[0;34m=\u001b[0m \u001b[0mnp\u001b[0m\u001b[0;34m.\u001b[0m\u001b[0msign\u001b[0m\u001b[0;34m(\u001b[0m\u001b[0mw_star\u001b[0m\u001b[0;34m.\u001b[0m\u001b[0mT\u001b[0m \u001b[0;34m*\u001b[0m \u001b[0mtraining_x\u001b[0m\u001b[0;34m)\u001b[0m\u001b[0;34m\u001b[0m\u001b[0m\n",
      "\u001b[0;31mNameError\u001b[0m: name 'np' is not defined"
     ]
    }
   ],
   "source": [
    "training_x = np.matrix([[1,\n",
    "                         (random.random() - 0.5) * 100,\n",
    "                         (random.random() - 0.5) * 100] \n",
    "                        for i in range(training_number)]).T\n",
    "training_y = np.sign(w_star.T * training_x)\n",
    "\n",
    "training_df = pd.DataFrame(np.column_stack((training_x[1:3].T, training_y.T)), columns=[\"x\",\"y\",\"class\"])\n",
    "training_df.head()"
   ]
  },
  {
   "cell_type": "code",
   "execution_count": 174,
   "metadata": {},
   "outputs": [
    {
     "data": {
      "application/vnd.vegalite.v1+json": {
       "$schema": "https://vega.github.io/schema/vega-lite/v1.2.1.json",
       "data": {
        "values": [
         {
          "class": -1,
          "x": -35.20011028419645,
          "y": 23.978301068130946
         },
         {
          "class": 1,
          "x": -19.14761616256524,
          "y": -43.96197490121544
         },
         {
          "class": 1,
          "x": 17.72066671163287,
          "y": -7.555322113690233
         },
         {
          "class": 1,
          "x": -24.21130349010544,
          "y": -12.162202258438427
         },
         {
          "class": -1,
          "x": -32.91511652942951,
          "y": 48.89270454396103
         },
         {
          "class": 1,
          "x": 31.225534959161017,
          "y": 5.726068253852246
         },
         {
          "class": 1,
          "x": 42.657203785174026,
          "y": -21.155373193810956
         },
         {
          "class": -1,
          "x": -26.75400471199434,
          "y": 18.80333184010492
         },
         {
          "class": 1,
          "x": 43.96939262125649,
          "y": -10.86427811077002
         },
         {
          "class": -1,
          "x": -31.115582655056862,
          "y": 0.1088598041508737
         },
         {
          "class": 1,
          "x": 20.83549926335353,
          "y": -38.87735982098356
         },
         {
          "class": 1,
          "x": 30.76517645003062,
          "y": -25.48205773418134
         },
         {
          "class": -1,
          "x": -29.447279853010755,
          "y": 40.84026006392746
         },
         {
          "class": 1,
          "x": 47.16415944743577,
          "y": 1.6353281469236869
         },
         {
          "class": -1,
          "x": 22.47710071832547,
          "y": 20.857505594539383
         },
         {
          "class": -1,
          "x": 1.1529633538734596,
          "y": 35.68539377641346
         },
         {
          "class": -1,
          "x": 24.326557315161836,
          "y": 34.341334379760724
         },
         {
          "class": 1,
          "x": -35.93322612053026,
          "y": -44.7839009721451
         },
         {
          "class": 1,
          "x": 6.233822722257665,
          "y": -0.631346790523224
         },
         {
          "class": -1,
          "x": -11.12409514460394,
          "y": 39.96086100626294
         },
         {
          "class": 1,
          "x": -42.57393388827416,
          "y": -22.483132375391623
         },
         {
          "class": -1,
          "x": -22.255766575271473,
          "y": 3.7998505867539834
         },
         {
          "class": -1,
          "x": 17.34674141520145,
          "y": 17.681924572186215
         },
         {
          "class": -1,
          "x": -13.268420603358877,
          "y": 30.171337607712545
         },
         {
          "class": -1,
          "x": 38.975930064091976,
          "y": 47.25856166829263
         },
         {
          "class": 1,
          "x": -41.4554763418226,
          "y": -22.94658790105304
         },
         {
          "class": -1,
          "x": 34.11958427103422,
          "y": 23.921244652885665
         },
         {
          "class": -1,
          "x": 42.19387625933485,
          "y": 21.57816749388113
         },
         {
          "class": 1,
          "x": -32.312301358965215,
          "y": -30.628025545384062
         },
         {
          "class": 1,
          "x": 20.967039784374542,
          "y": -39.68340512258156
         },
         {
          "class": -1,
          "x": 15.02562770959196,
          "y": 5.4784930840190205
         },
         {
          "class": -1,
          "x": -14.199361049907965,
          "y": 43.488686750180136
         },
         {
          "class": 1,
          "x": 40.77022656329059,
          "y": -42.20621078759955
         },
         {
          "class": 1,
          "x": 31.97152370463695,
          "y": 8.530177448610331
         },
         {
          "class": 1,
          "x": 49.19012402056913,
          "y": -19.905478802309307
         },
         {
          "class": -1,
          "x": -21.252744576087366,
          "y": 32.906983354574024
         },
         {
          "class": -1,
          "x": -10.697506547979463,
          "y": 29.118973455976427
         },
         {
          "class": -1,
          "x": -11.18805718060445,
          "y": 21.370088069759742
         },
         {
          "class": 1,
          "x": 22.890281922583334,
          "y": -48.19240122214743
         },
         {
          "class": 1,
          "x": 46.15977116907247,
          "y": -1.6528236202924096
         },
         {
          "class": 1,
          "x": -9.617552416336183,
          "y": -35.37174121955906
         },
         {
          "class": -1,
          "x": -43.74731809346047,
          "y": 11.875090856907434
         },
         {
          "class": -1,
          "x": -15.470463438310523,
          "y": 38.46180306831975
         },
         {
          "class": -1,
          "x": 42.74074349972131,
          "y": 46.76720144084483
         },
         {
          "class": 1,
          "x": 13.092713730115978,
          "y": -3.7193189167819107
         },
         {
          "class": 1,
          "x": 11.320762829688691,
          "y": -38.93398554260171
         },
         {
          "class": -1,
          "x": -3.8693770115576176,
          "y": 39.466315699491815
         },
         {
          "class": 1,
          "x": -39.84365102392407,
          "y": -23.96081590971417
         },
         {
          "class": 1,
          "x": -2.56010943473558,
          "y": -4.28903290665753
         },
         {
          "class": 1,
          "x": 3.173561402532865,
          "y": -35.135915336087756
         },
         {
          "class": 1,
          "x": -30.28997274418184,
          "y": -12.772623624498314
         },
         {
          "class": -1,
          "x": -24.633901605683427,
          "y": -3.4701370684885102
         },
         {
          "class": 1,
          "x": 36.966733027279005,
          "y": -0.6823133126595549
         },
         {
          "class": -1,
          "x": 38.968734597735164,
          "y": 20.32371867041706
         },
         {
          "class": -1,
          "x": -0.5600789683840035,
          "y": 3.819013966485263
         },
         {
          "class": -1,
          "x": -46.385331494253315,
          "y": -1.0097125954032005
         },
         {
          "class": -1,
          "x": -36.94090412276441,
          "y": 37.674592267362904
         },
         {
          "class": 1,
          "x": 43.01568868962884,
          "y": 1.8791984344949886
         },
         {
          "class": -1,
          "x": -11.487418246900305,
          "y": 34.09549343626222
         },
         {
          "class": 1,
          "x": -2.28953873296337,
          "y": -14.485062879796196
         },
         {
          "class": 1,
          "x": 48.13372488302444,
          "y": -4.334849700787558
         },
         {
          "class": -1,
          "x": -22.098185915637426,
          "y": 11.764257254682963
         },
         {
          "class": -1,
          "x": -9.740147519769259,
          "y": 45.96700275331022
         },
         {
          "class": 1,
          "x": -26.4464788716828,
          "y": -19.703273623261918
         },
         {
          "class": 1,
          "x": 1.9659499510277567,
          "y": -10.519667973145552
         },
         {
          "class": 1,
          "x": 31.37299354551616,
          "y": -8.57721242607804
         },
         {
          "class": 1,
          "x": 6.486494389452124,
          "y": -24.687989114264617
         },
         {
          "class": 1,
          "x": 22.657669029710302,
          "y": -36.17705384665546
         },
         {
          "class": 1,
          "x": 17.568152475527498,
          "y": -37.626230722552364
         },
         {
          "class": -1,
          "x": 41.35284700503393,
          "y": 23.519483930841712
         },
         {
          "class": -1,
          "x": -22.080285618329356,
          "y": 16.010838619865197
         },
         {
          "class": 1,
          "x": 41.470607233344325,
          "y": -31.846140615306183
         },
         {
          "class": -1,
          "x": -1.4765182722316084,
          "y": 15.864532838730295
         },
         {
          "class": 1,
          "x": 24.775675885466686,
          "y": -13.244728177717368
         },
         {
          "class": -1,
          "x": 3.121284566379612,
          "y": 5.601375408695864
         },
         {
          "class": 1,
          "x": 39.89307965933268,
          "y": -25.318587516354185
         },
         {
          "class": -1,
          "x": 15.532908995286899,
          "y": 41.857864994084984
         },
         {
          "class": 1,
          "x": 19.790804085964332,
          "y": 2.196572728551782
         },
         {
          "class": 1,
          "x": 40.01696255818833,
          "y": -15.718956993524557
         },
         {
          "class": 1,
          "x": 27.014878865133994,
          "y": -29.186267578771762
         },
         {
          "class": 1,
          "x": -9.712431510311504,
          "y": -49.395068056270965
         },
         {
          "class": 1,
          "x": 7.174324445497393,
          "y": -27.556877908115705
         },
         {
          "class": -1,
          "x": 27.648631346519327,
          "y": 41.305972318018114
         },
         {
          "class": -1,
          "x": 20.042869317435986,
          "y": 31.802764538489658
         },
         {
          "class": -1,
          "x": -29.756566317862653,
          "y": 4.349392880927871
         },
         {
          "class": -1,
          "x": -4.477242374343826,
          "y": 23.97075421491992
         },
         {
          "class": 1,
          "x": 41.45571378301642,
          "y": -23.721045083209603
         },
         {
          "class": 1,
          "x": -44.07426526241659,
          "y": -34.56253173107117
         },
         {
          "class": -1,
          "x": -38.848237387542305,
          "y": -12.390685463087314
         },
         {
          "class": 1,
          "x": 26.269077890501002,
          "y": 7.645621974792583
         },
         {
          "class": -1,
          "x": 18.370837007604145,
          "y": 16.400606495466143
         },
         {
          "class": 1,
          "x": -14.56962298973834,
          "y": -16.122969881256278
         },
         {
          "class": -1,
          "x": 40.552796299781946,
          "y": 30.881362442760086
         },
         {
          "class": 1,
          "x": 48.07870904923974,
          "y": -17.198143157752487
         },
         {
          "class": -1,
          "x": -19.870462139875077,
          "y": -5.91032852904243
         },
         {
          "class": 1,
          "x": 42.91125453035741,
          "y": -16.944271348438566
         },
         {
          "class": 1,
          "x": 27.19964385454132,
          "y": -30.989029801145097
         },
         {
          "class": -1,
          "x": -8.770395196244296,
          "y": 2.748970573549858
         },
         {
          "class": -1,
          "x": 26.545507092556065,
          "y": 12.48307240275669
         },
         {
          "class": -1,
          "x": -8.75334998359223,
          "y": 26.023921450509636
         }
        ]
       },
       "encoding": {
        "shape": {
         "field": "class",
         "type": "quantitative"
        },
        "x": {
         "field": "x",
         "type": "quantitative"
        },
        "y": {
         "field": "y",
         "type": "quantitative"
        }
       },
       "mark": "point"
      },
      "image/png": "[encoded data removed]",
      "text/plain": [
       "<altair.VegaLite object>"
      ]
     },
     "execution_count": 174,
     "metadata": {},
     "output_type": "execute_result"
    }
   ],
   "source": [
    "alt.Chart(training_df).mark_point().encode(\n",
    "    x='x',\n",
    "    y='y',\n",
    "    shape=\"class\"\n",
    ")"
   ]
  },
  {
   "cell_type": "markdown",
   "metadata": {},
   "source": [
    "Altair is a great graphing package for python that handles high level statistical graphing. Unfortuantely, I haven't figured out how to layer the graph with the actual dividor ($w^*$).\n",
    "\n",
    "Now for the actual perceptron learning algo (PLA).\n"
   ]
  },
  {
   "cell_type": "code",
   "execution_count": 187,
   "metadata": {},
   "outputs": [
    {
     "data": {
      "text/plain": [
       "matrix([[   9.        ],\n",
       "        [  36.5289157 ],\n",
       "        [-113.63926611]])"
      ]
     },
     "execution_count": 187,
     "metadata": {},
     "output_type": "execute_result"
    }
   ],
   "source": [
    "# intial guess\n",
    "w_trained = np.matrix([0 for i in range(2+1)]).T\n",
    "\n",
    "counter = 0\n",
    "\n",
    "while True:\n",
    "    counter += 1\n",
    "    if counter % 1000 == 0: print(counter)\n",
    "    for i in range(NUMBER_OF_TRAINING):\n",
    "        if np.sign(training_x.T[i] * w_trained) != training_y.T[i]:\n",
    "#             print(\"########\", i)\n",
    "#             print((training_x.T[i].T * training_y.T[2]))\n",
    "            w_trained = w_trained + (training_x.T[i].T * training_y.T[i])\n",
    "            break\n",
    "        else:\n",
    "            continue\n",
    "    if (np.sign(w_trained.T * training_x) == training_y).all():\n",
    "        break\n",
    "\n",
    "w_trained\n",
    "\n",
    "# write something to normalize the array\n",
    "# also make sure to do the same to w_Star at teh beginngin"
   ]
  },
  {
   "cell_type": "code",
   "execution_count": null,
   "metadata": {},
   "outputs": [],
   "source": []
  },
  {
   "cell_type": "code",
   "execution_count": null,
   "metadata": {},
   "outputs": [],
   "source": []
  }
 ],
 "metadata": {
  "kernelspec": {
   "display_name": "Python 3",
   "language": "python",
   "name": "python3"
  },
  "language_info": {
   "codemirror_mode": {
    "name": "ipython",
    "version": 3
   },
   "file_extension": ".py",
   "mimetype": "text/x-python",
   "name": "python",
   "nbconvert_exporter": "python",
   "pygments_lexer": "ipython3",
   "version": "3.6.3"
  }
 },
 "nbformat": 4,
 "nbformat_minor": 2
}
