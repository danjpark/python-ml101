{
 "cells": [
  {
   "cell_type": "code",
   "execution_count": 123,
   "metadata": {
    "slideshow": {
     "slide_type": "-"
    }
   },
   "outputs": [],
   "source": [
    "## Import modules as needed\n",
    "import pandas as pd\n",
    "import numpy as np\n",
    "import altair as alt\n",
    "import random\n",
    "\n",
    "## enabling for altair\n",
    "alt.enable_mime_rendering()\n",
    "\n",
    "#Some basic global variables\n",
    "NUMBER_OF_TRAINING = 100"
   ]
  },
  {
   "cell_type": "markdown",
   "metadata": {},
   "source": [
    "We first create the training examples. To do so we need to create\n",
    "1. the true linear seperator ($w^*$)\n",
    "2. generate a list of points ($x$) and its class ($y=h(x)$).\n",
    "\n",
    "Note:\n",
    "We are working in a 2-dimensional space but keep in mind that $x=(1, x_1,x_2)$. The form of the true linear seperator is $[w_0, w_1, w_2]$. And $h(x)=sign(w^Tx)$. If we were to show this as $y = ax + b$ this will be presented in $w_0, w_1, w_2$ as $y=-\\frac{w_1}{w_2}x-\\frac{w_o}{w_2}$\n"
   ]
  },
  {
   "cell_type": "code",
   "execution_count": 124,
   "metadata": {},
   "outputs": [
    {
     "data": {
      "text/plain": [
       "matrix([[ 4.20144148],\n",
       "        [-2.52921874],\n",
       "        [ 2.13360278]])"
      ]
     },
     "execution_count": 124,
     "metadata": {},
     "output_type": "execute_result"
    }
   ],
   "source": [
    "w_star = np.matrix([((random.random()-0.5) * 10) for i in range(3)]).T\n",
    "w_star"
   ]
  },
  {
   "cell_type": "markdown",
   "metadata": {},
   "source": [
    "Now we set up 100 random training_x and calculate the training_y"
   ]
  },
  {
   "cell_type": "code",
   "execution_count": 125,
   "metadata": {},
   "outputs": [
    {
     "data": {
      "text/html": [
       "<div>\n",
       "<style scoped>\n",
       "    .dataframe tbody tr th:only-of-type {\n",
       "        vertical-align: middle;\n",
       "    }\n",
       "\n",
       "    .dataframe tbody tr th {\n",
       "        vertical-align: top;\n",
       "    }\n",
       "\n",
       "    .dataframe thead th {\n",
       "        text-align: right;\n",
       "    }\n",
       "</style>\n",
       "<table border=\"1\" class=\"dataframe\">\n",
       "  <thead>\n",
       "    <tr style=\"text-align: right;\">\n",
       "      <th></th>\n",
       "      <th>x</th>\n",
       "      <th>y</th>\n",
       "      <th>class</th>\n",
       "    </tr>\n",
       "  </thead>\n",
       "  <tbody>\n",
       "    <tr>\n",
       "      <th>0</th>\n",
       "      <td>42.981052</td>\n",
       "      <td>0.557702</td>\n",
       "      <td>-1.0</td>\n",
       "    </tr>\n",
       "    <tr>\n",
       "      <th>1</th>\n",
       "      <td>-25.891237</td>\n",
       "      <td>33.186826</td>\n",
       "      <td>1.0</td>\n",
       "    </tr>\n",
       "    <tr>\n",
       "      <th>2</th>\n",
       "      <td>-37.137765</td>\n",
       "      <td>-23.849038</td>\n",
       "      <td>1.0</td>\n",
       "    </tr>\n",
       "    <tr>\n",
       "      <th>3</th>\n",
       "      <td>33.536031</td>\n",
       "      <td>41.968692</td>\n",
       "      <td>1.0</td>\n",
       "    </tr>\n",
       "    <tr>\n",
       "      <th>4</th>\n",
       "      <td>9.685461</td>\n",
       "      <td>-30.990122</td>\n",
       "      <td>-1.0</td>\n",
       "    </tr>\n",
       "  </tbody>\n",
       "</table>\n",
       "</div>"
      ],
      "text/plain": [
       "           x          y  class\n",
       "0  42.981052   0.557702   -1.0\n",
       "1 -25.891237  33.186826    1.0\n",
       "2 -37.137765 -23.849038    1.0\n",
       "3  33.536031  41.968692    1.0\n",
       "4   9.685461 -30.990122   -1.0"
      ]
     },
     "execution_count": 125,
     "metadata": {},
     "output_type": "execute_result"
    }
   ],
   "source": [
    "training_x = np.matrix([[1,\n",
    "                         (random.random() - 0.5) * 100,\n",
    "                         (random.random() - 0.5) * 100] \n",
    "                        for i in range(NUMBER_OF_TRAINING)]).T\n",
    "\n",
    "training_y = np.sign(w_star.T * training_x)\n",
    "\n",
    "training_df = pd.DataFrame(np.column_stack((training_x[1:3].T, training_y.T)), columns=[\"x\",\"y\",\"class\"])\n",
    "training_df.head()"
   ]
  },
  {
   "cell_type": "code",
   "execution_count": 126,
   "metadata": {},
   "outputs": [
    {
     "data": {
      "application/vnd.vegalite.v1+json": {
       "$schema": "https://vega.github.io/schema/vega-lite/v1.2.1.json",
       "data": {
        "values": [
         {
          "class": -1,
          "x": 42.981051654735225,
          "y": 0.5577015190446288
         },
         {
          "class": 1,
          "x": -25.891236717656664,
          "y": 33.18682640758045
         },
         {
          "class": 1,
          "x": -37.13776480549915,
          "y": -23.849037864399637
         },
         {
          "class": 1,
          "x": 33.53603080685734,
          "y": 41.96869222190895
         },
         {
          "class": -1,
          "x": 9.685460545895829,
          "y": -30.99012167798103
         },
         {
          "class": 1,
          "x": -1.892991400519084,
          "y": 45.240118986000255
         },
         {
          "class": 1,
          "x": -27.356623225141075,
          "y": -9.869533157282607
         },
         {
          "class": 1,
          "x": -27.62106706166928,
          "y": -8.536132993808243
         },
         {
          "class": 1,
          "x": 10.165778716525619,
          "y": 37.71238599939172
         },
         {
          "class": -1,
          "x": 22.881632151353603,
          "y": 18.59888597769379
         },
         {
          "class": -1,
          "x": -22.829042506796792,
          "y": -34.81431197876931
         },
         {
          "class": -1,
          "x": 27.84668253452721,
          "y": -20.291444233966416
         },
         {
          "class": 1,
          "x": 3.9788974461561266,
          "y": 20.366788785212066
         },
         {
          "class": 1,
          "x": -43.85447600922285,
          "y": 23.341112181104506
         },
         {
          "class": -1,
          "x": 42.77753308302085,
          "y": 44.56900132285364
         },
         {
          "class": -1,
          "x": 7.245990144978409,
          "y": -29.07815559825958
         },
         {
          "class": -1,
          "x": 20.022218023335924,
          "y": -32.59184890355451
         },
         {
          "class": 1,
          "x": -9.734357570346063,
          "y": -1.3293774155636373
         },
         {
          "class": 1,
          "x": -43.261469118865215,
          "y": 47.81666104752655
         },
         {
          "class": 1,
          "x": -41.45268031163507,
          "y": 44.43914285438956
         },
         {
          "class": -1,
          "x": 18.231103473319443,
          "y": -16.64579265188707
         },
         {
          "class": 1,
          "x": 13.854083722894927,
          "y": 48.43032950081453
         },
         {
          "class": 1,
          "x": -25.17096620950602,
          "y": -23.726948043997986
         },
         {
          "class": -1,
          "x": -23.289760986025144,
          "y": -39.31031323062888
         },
         {
          "class": 1,
          "x": -26.82379440088485,
          "y": 5.658583890990698
         },
         {
          "class": -1,
          "x": 18.489714934911085,
          "y": -30.89504408084486
         },
         {
          "class": -1,
          "x": 43.96845852287201,
          "y": 36.14597477258066
         },
         {
          "class": -1,
          "x": 34.64691421373107,
          "y": -27.311170849047173
         },
         {
          "class": 1,
          "x": -45.011184445973676,
          "y": 27.160740720604625
         },
         {
          "class": 1,
          "x": 8.425745735962419,
          "y": 13.303080807865674
         },
         {
          "class": -1,
          "x": 10.723226303468348,
          "y": 4.897883982945805
         },
         {
          "class": -1,
          "x": 15.752178495321246,
          "y": -23.515586149663793
         },
         {
          "class": -1,
          "x": 2.7783883926556285,
          "y": -17.306148359865723
         },
         {
          "class": 1,
          "x": 22.536692460943964,
          "y": 46.70521041164973
         },
         {
          "class": -1,
          "x": 45.7944997463569,
          "y": -7.337644275338739
         },
         {
          "class": 1,
          "x": 12.82627713279103,
          "y": 35.02087734843373
         },
         {
          "class": -1,
          "x": 11.251581939759648,
          "y": -21.5802843069395
         },
         {
          "class": 1,
          "x": -32.93391535875606,
          "y": -35.59977580626058
         },
         {
          "class": 1,
          "x": -39.44074669197393,
          "y": 48.29807480051688
         },
         {
          "class": -1,
          "x": 23.718038321746416,
          "y": 15.087629219100718
         },
         {
          "class": 1,
          "x": -16.73003742804492,
          "y": 17.60685759717322
         },
         {
          "class": -1,
          "x": 7.060857991989122,
          "y": -28.860015163767915
         },
         {
          "class": -1,
          "x": 49.47817885136625,
          "y": 23.78690932274775
         },
         {
          "class": 1,
          "x": -49.899213658425666,
          "y": -34.962106300075526
         },
         {
          "class": -1,
          "x": 28.742690986267117,
          "y": 29.95591027341694
         },
         {
          "class": -1,
          "x": 39.46525827658793,
          "y": -13.057655625097864
         },
         {
          "class": -1,
          "x": -33.05226945635895,
          "y": -43.469923720872295
         },
         {
          "class": 1,
          "x": -38.725153269208064,
          "y": -27.92104279249227
         },
         {
          "class": -1,
          "x": 49.686031169421305,
          "y": 19.894440736037822
         },
         {
          "class": 1,
          "x": -30.66181615146304,
          "y": 6.806947233976368
         },
         {
          "class": -1,
          "x": 33.35373649515924,
          "y": -39.03187471314067
         },
         {
          "class": 1,
          "x": -19.492983633217108,
          "y": 4.987500022445868
         },
         {
          "class": 1,
          "x": 11.788485761943823,
          "y": 32.201311666668644
         },
         {
          "class": 1,
          "x": -28.882069877305405,
          "y": 46.37751770301213
         },
         {
          "class": -1,
          "x": 16.083589700626135,
          "y": -5.473906675995133
         },
         {
          "class": 1,
          "x": -6.388217913992733,
          "y": 9.74893494322302
         },
         {
          "class": -1,
          "x": 27.337771233548334,
          "y": -34.6428706007251
         },
         {
          "class": 1,
          "x": -13.329364095202479,
          "y": -3.9829934210142137
         },
         {
          "class": 1,
          "x": -35.220177086594674,
          "y": -31.98741283442994
         },
         {
          "class": 1,
          "x": -48.3191186936055,
          "y": -3.7958190389993263
         },
         {
          "class": 1,
          "x": -20.077056682446692,
          "y": -18.165280585713127
         },
         {
          "class": -1,
          "x": 3.337954089084749,
          "y": -11.366272252183752
         },
         {
          "class": -1,
          "x": 34.627715612803776,
          "y": -37.273762790226215
         },
         {
          "class": -1,
          "x": 40.70874517384707,
          "y": -14.719408258709965
         },
         {
          "class": -1,
          "x": 39.611742046848356,
          "y": -21.164744719189187
         },
         {
          "class": -1,
          "x": 11.028934187398443,
          "y": -31.94616673441104
         },
         {
          "class": -1,
          "x": 36.31783264281171,
          "y": -48.88302655315807
         },
         {
          "class": -1,
          "x": 22.88430035278264,
          "y": -4.034637904575145
         },
         {
          "class": -1,
          "x": 24.300224399049007,
          "y": -35.75788678727201
         },
         {
          "class": -1,
          "x": 25.552906317203806,
          "y": -12.537805507252553
         },
         {
          "class": 1,
          "x": -45.66482229488808,
          "y": 5.908569472117852
         },
         {
          "class": 1,
          "x": 26.272980071569386,
          "y": 39.51743841385264
         },
         {
          "class": 1,
          "x": -24.874669740707333,
          "y": 30.383464216792955
         },
         {
          "class": -1,
          "x": 10.34620434550183,
          "y": -11.930769783103013
         },
         {
          "class": -1,
          "x": 27.991048849527967,
          "y": 6.051615258562126
         },
         {
          "class": 1,
          "x": -11.778642455205645,
          "y": 25.146152809767518
         },
         {
          "class": -1,
          "x": 36.93990979598753,
          "y": 28.3333113229566
         },
         {
          "class": 1,
          "x": -10.837146778488215,
          "y": 27.997403005485488
         },
         {
          "class": 1,
          "x": 21.04956557171874,
          "y": 33.79915536009377
         },
         {
          "class": 1,
          "x": -49.484882266854605,
          "y": -44.3410246302681
         },
         {
          "class": 1,
          "x": -36.440260947270694,
          "y": 26.97662018561947
         },
         {
          "class": 1,
          "x": -39.378523144501344,
          "y": 6.26316892450931
         },
         {
          "class": 1,
          "x": -23.91637531223998,
          "y": 39.043103989950254
         },
         {
          "class": -1,
          "x": -24.477265559159523,
          "y": -33.50855361107269
         },
         {
          "class": -1,
          "x": 42.72003839969805,
          "y": -25.50851393726755
         },
         {
          "class": -1,
          "x": 14.13363796918926,
          "y": -35.40806931389272
         },
         {
          "class": -1,
          "x": 31.591208446295084,
          "y": 7.314537443580694
         },
         {
          "class": -1,
          "x": 4.587881616938039,
          "y": -20.404054602850984
         },
         {
          "class": 1,
          "x": -49.087706240725545,
          "y": -15.743106532848872
         },
         {
          "class": 1,
          "x": 3.354044753773189,
          "y": 6.041773159879293
         },
         {
          "class": -1,
          "x": 44.57998475178576,
          "y": -0.7267405195661159
         },
         {
          "class": -1,
          "x": 43.071626642442894,
          "y": 39.44754583311882
         },
         {
          "class": -1,
          "x": 2.320364606432068,
          "y": -0.5193308613279934
         },
         {
          "class": -1,
          "x": 19.018649648820173,
          "y": -38.9390615183768
         },
         {
          "class": -1,
          "x": 33.38451392273578,
          "y": -37.54778129392552
         },
         {
          "class": 1,
          "x": 27.01059108002759,
          "y": 46.86783983063204
         },
         {
          "class": 1,
          "x": 5.987953005211521,
          "y": 6.588418084127678
         },
         {
          "class": 1,
          "x": -8.75991363134987,
          "y": 46.433582606377875
         },
         {
          "class": -1,
          "x": 5.670083983211782,
          "y": -33.49306816048794
         },
         {
          "class": 1,
          "x": -33.60841461609514,
          "y": -19.848485126845716
         }
        ]
       },
       "encoding": {
        "shape": {
         "field": "class",
         "type": "quantitative"
        },
        "x": {
         "field": "x",
         "type": "quantitative"
        },
        "y": {
         "field": "y",
         "type": "quantitative"
        }
       },
       "mark": "point"
      },
      "image/png": "[encoded data removed]",
      "text/plain": [
       "<altair.VegaLite object>"
      ]
     },
     "execution_count": 126,
     "metadata": {},
     "output_type": "execute_result"
    }
   ],
   "source": [
    "alt.Chart(training_df).mark_point().encode(\n",
    "    x='x',\n",
    "    y='y',\n",
    "    shape=\"class\"\n",
    ")"
   ]
  },
  {
   "cell_type": "markdown",
   "metadata": {},
   "source": [
    "Altair is a great graphing package for python that handles high level statistical graphing. Unfortuantely, I haven't figured out how to layer the graph with the actual dividor ($w^*$).\n",
    "\n",
    "Now for the actual perceptron learning algo (PLA).\n"
   ]
  },
  {
   "cell_type": "code",
   "execution_count": 130,
   "metadata": {},
   "outputs": [
    {
     "name": "stdout",
     "output_type": "stream",
     "text": [
      "1000\n",
      "2000\n",
      "3000\n",
      "4000\n",
      "5000\n",
      "6000\n",
      "7000\n",
      "8000\n",
      "9000\n",
      "10000\n",
      "11000\n",
      "12000\n",
      "13000\n",
      "14000\n",
      "15000\n",
      "16000\n",
      "17000\n",
      "18000\n",
      "19000\n",
      "20000\n",
      "21000\n",
      "22000\n",
      "23000\n",
      "24000\n",
      "25000\n",
      "26000\n",
      "27000\n",
      "28000\n",
      "29000\n",
      "30000\n",
      "31000\n",
      "32000\n",
      "33000\n",
      "34000\n",
      "35000\n",
      "36000\n",
      "37000\n",
      "38000\n",
      "39000\n",
      "40000\n",
      "41000\n",
      "42000\n",
      "43000\n",
      "44000\n",
      "45000\n",
      "46000\n",
      "47000\n",
      "48000\n",
      "49000\n",
      "50000\n",
      "51000\n",
      "52000\n",
      "53000\n",
      "54000\n",
      "55000\n",
      "56000\n",
      "57000\n",
      "58000\n",
      "59000\n",
      "60000\n",
      "61000\n",
      "62000\n",
      "63000\n",
      "64000\n",
      "65000\n",
      "66000\n",
      "67000\n",
      "68000\n",
      "69000\n",
      "70000\n",
      "71000\n",
      "72000\n",
      "73000\n",
      "74000\n",
      "75000\n",
      "76000\n",
      "77000\n",
      "78000\n",
      "79000\n",
      "80000\n",
      "81000\n",
      "82000\n",
      "83000\n",
      "84000\n",
      "85000\n",
      "86000\n",
      "87000\n",
      "88000\n",
      "89000\n",
      "90000\n",
      "91000\n",
      "92000\n",
      "93000\n",
      "94000\n",
      "95000\n",
      "96000\n",
      "97000\n",
      "98000\n",
      "99000\n",
      "100000\n"
     ]
    },
    {
     "data": {
      "text/plain": [
       "matrix([[ 100001.        ],\n",
       "        [4298148.14651781],\n",
       "        [  55770.70960586]])"
      ]
     },
     "execution_count": 130,
     "metadata": {},
     "output_type": "execute_result"
    }
   ],
   "source": [
    "# intial guess\n",
    "w_trained = np.matrix([0 for i in range(2+1)]).T\n",
    "\n",
    "counter = 0\n",
    "\n",
    "while True:\n",
    "    counter += 1\n",
    "    if counter % 1000 == 0: print(counter)\n",
    "    for i in range(NUMBER_OF_TRAINING):\n",
    "        if (training_x.T[i] * w_trained) != training_y.T[i]:\n",
    "            w_trained = w_trained + (training_x.T[i].T * training_y.T[2])\n",
    "            break\n",
    "    if (np.sign(w_trained.T * training_x) == training_y).all():\n",
    "        break\n",
    "\n",
    "    if(counter > 100000): break\n",
    "w_trained"
   ]
  },
  {
   "cell_type": "code",
   "execution_count": 107,
   "metadata": {},
   "outputs": [
    {
     "name": "stdout",
     "output_type": "stream",
     "text": [
      "0\n"
     ]
    },
    {
     "data": {
      "text/plain": [
       "matrix([[  -67.        ],\n",
       "        [ 2372.43310869],\n",
       "        [-4462.80238687]])"
      ]
     },
     "execution_count": 107,
     "metadata": {},
     "output_type": "execute_result"
    }
   ],
   "source": [
    "# w_trained = np.matrix([0 for i in range(2+1)]).T\n",
    "\n",
    "print(np.sign(0))\n",
    "for i in range(NUMBER_OF_TRAINING):\n",
    "    if (training_x.T[i] * w_trained) != training_y.T[i]:\n",
    "        w_trained = w_trained + (training_x.T[i].T * training_y.T[2])\n",
    "        break\n",
    "if np.sign(w_trained.T * training_x) == training_y:\n",
    "    break\n",
    "\n",
    "w_trained\n",
    "# eachColumn in training_x.T:\n",
    "#     print(eachColumn * w_trained)\n",
    "\n"
   ]
  },
  {
   "cell_type": "code",
   "execution_count": 114,
   "metadata": {},
   "outputs": [
    {
     "data": {
      "text/plain": [
       "matrix([[ 1., -1., -1., -1.]])"
      ]
     },
     "execution_count": 114,
     "metadata": {},
     "output_type": "execute_result"
    }
   ],
   "source": [
    "np.sign(w_trained.T * training_x)"
   ]
  },
  {
   "cell_type": "code",
   "execution_count": 110,
   "metadata": {},
   "outputs": [
    {
     "data": {
      "text/plain": [
       "matrix([[  1.        ,   1.        ,   1.        ,   1.        ],\n",
       "        [ 44.03992612, -27.28329855,  20.97404926, -45.12642609],\n",
       "        [-46.94230351,  30.20401184,  42.40385228,  48.90787093]])"
      ]
     },
     "execution_count": 110,
     "metadata": {},
     "output_type": "execute_result"
    }
   ],
   "source": [
    "training_x"
   ]
  },
  {
   "cell_type": "code",
   "execution_count": null,
   "metadata": {},
   "outputs": [],
   "source": [
    "training_x * training_y.T"
   ]
  },
  {
   "cell_type": "code",
   "execution_count": null,
   "metadata": {},
   "outputs": [],
   "source": []
  }
 ],
 "metadata": {
  "kernelspec": {
   "display_name": "Python 3",
   "language": "python",
   "name": "python3"
  },
  "language_info": {
   "codemirror_mode": {
    "name": "ipython",
    "version": 3
   },
   "file_extension": ".py",
   "mimetype": "text/x-python",
   "name": "python",
   "nbconvert_exporter": "python",
   "pygments_lexer": "ipython3",
   "version": "3.6.3"
  }
 },
 "nbformat": 4,
 "nbformat_minor": 2
}
