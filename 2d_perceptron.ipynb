{
 "cells": [
  {
   "cell_type": "code",
   "execution_count": 149,
   "metadata": {
    "slideshow": {
     "slide_type": "-"
    }
   },
   "outputs": [],
   "source": [
    "## Import modules as needed\n",
    "import pandas as pd\n",
    "import numpy as np\n",
    "import altair as alt\n",
    "import random\n",
    "\n",
    "## enabling for altair\n",
    "alt.enable_mime_rendering()"
   ]
  },
  {
   "cell_type": "markdown",
   "metadata": {},
   "source": [
    "We first create the training examples. To do so we need to create\n",
    "1. the true linear seperator ($w^*$)\n",
    "2. generate a list of points ($x$) and its class ($y=h(x)$).\n",
    "\n",
    "Note:\n",
    "We are working in a 2-dimensional space ($x=(x_1,x_2)$). The form of the true linear seperator is $[0, w_1, w_2]$. And $h(x)=sign(w^Tx)$. If we were to show this as $y = ax + b$ this will be presented in $w_1, w_2$ as \n"
   ]
  },
  {
   "cell_type": "code",
   "execution_count": 150,
   "metadata": {},
   "outputs": [
    {
     "data": {
      "text/plain": [
       "matrix([[0.        ],\n",
       "        [5.71402595],\n",
       "        [4.28889055]])"
      ]
     },
     "execution_count": 150,
     "metadata": {},
     "output_type": "execute_result"
    }
   ],
   "source": [
    "# random seed\n",
    "random.seed(10)\n",
    "\n",
    "w_star = [(random.random() * 10) for i in range(2)]\n",
    "w_star = np.matrix([0] + w_star).T\n",
    "w_star"
   ]
  },
  {
   "cell_type": "markdown",
   "metadata": {},
   "source": [
    "Now we set up 100 random training_x and calculate the training_y"
   ]
  },
  {
   "cell_type": "code",
   "execution_count": 151,
   "metadata": {},
   "outputs": [],
   "source": [
    "# random seed\n",
    "random.seed(10)\n",
    "\n",
    "training_x = np.matrix([[1,\n",
    "               (random.random() - 0.5) * 100,\n",
    "               (random.random() - 0.5) * 100] \n",
    "              for i in range(25)]).T\n",
    "\n",
    "training_y = np.sign(w_star.T * x)\n"
   ]
  },
  {
   "cell_type": "code",
   "execution_count": 152,
   "metadata": {},
   "outputs": [
    {
     "data": {
      "text/html": [
       "<div>\n",
       "<style scoped>\n",
       "    .dataframe tbody tr th:only-of-type {\n",
       "        vertical-align: middle;\n",
       "    }\n",
       "\n",
       "    .dataframe tbody tr th {\n",
       "        vertical-align: top;\n",
       "    }\n",
       "\n",
       "    .dataframe thead th {\n",
       "        text-align: right;\n",
       "    }\n",
       "</style>\n",
       "<table border=\"1\" class=\"dataframe\">\n",
       "  <thead>\n",
       "    <tr style=\"text-align: right;\">\n",
       "      <th></th>\n",
       "      <th>x</th>\n",
       "      <th>y</th>\n",
       "      <th>class</th>\n",
       "    </tr>\n",
       "  </thead>\n",
       "  <tbody>\n",
       "    <tr>\n",
       "      <th>0</th>\n",
       "      <td>7.140259</td>\n",
       "      <td>-7.111095</td>\n",
       "      <td>1.0</td>\n",
       "    </tr>\n",
       "    <tr>\n",
       "      <th>1</th>\n",
       "      <td>7.809130</td>\n",
       "      <td>-29.390177</td>\n",
       "      <td>-1.0</td>\n",
       "    </tr>\n",
       "    <tr>\n",
       "      <th>2</th>\n",
       "      <td>31.332125</td>\n",
       "      <td>32.358887</td>\n",
       "      <td>1.0</td>\n",
       "    </tr>\n",
       "    <tr>\n",
       "      <th>3</th>\n",
       "      <td>15.347253</td>\n",
       "      <td>-33.977044</td>\n",
       "      <td>-1.0</td>\n",
       "    </tr>\n",
       "    <tr>\n",
       "      <th>4</th>\n",
       "      <td>2.066936</td>\n",
       "      <td>-17.222719</td>\n",
       "      <td>-1.0</td>\n",
       "    </tr>\n",
       "  </tbody>\n",
       "</table>\n",
       "</div>"
      ],
      "text/plain": [
       "           x          y  class\n",
       "0   7.140259  -7.111095    1.0\n",
       "1   7.809130 -29.390177   -1.0\n",
       "2  31.332125  32.358887    1.0\n",
       "3  15.347253 -33.977044   -1.0\n",
       "4   2.066936 -17.222719   -1.0"
      ]
     },
     "execution_count": 152,
     "metadata": {},
     "output_type": "execute_result"
    }
   ],
   "source": [
    "training_df = pd.DataFrame(np.column_stack((training_x[1:3].T, training_y.T)), columns=[\"x\",\"y\",\"class\"])\n",
    "training_df.head()"
   ]
  },
  {
   "cell_type": "code",
   "execution_count": 154,
   "metadata": {},
   "outputs": [
    {
     "data": {
      "application/vnd.vegalite.v1+json": {
       "$schema": "https://vega.github.io/schema/vega-lite/v1.2.1.json",
       "data": {
        "values": [
         {
          "class": 1,
          "x": 7.14025946899135,
          "y": -7.111094532488538
         },
         {
          "class": -1,
          "x": 7.809130113447038,
          "y": -29.390176786049828
         },
         {
          "class": 1,
          "x": 31.332125135732003,
          "y": 32.35888725334455
         },
         {
          "class": -1,
          "x": 15.347253390117576,
          "y": -33.977044348118035
         },
         {
          "class": -1,
          "x": 2.0669359639924556,
          "y": -17.222718837790683
         },
         {
          "class": 1,
          "x": -25.000332331359964,
          "y": 45.28169091459117
         },
         {
          "class": 1,
          "x": 49.65569925394552,
          "y": -45.5443617549567
         },
         {
          "class": 1,
          "x": 36.0161037286291,
          "y": 10.319061096818505
         },
         {
          "class": -1,
          "x": -11.839401408088213,
          "y": -21.638178209328483
         },
         {
          "class": 1,
          "x": 17.496484713495597,
          "y": -4.316884894169437
         },
         {
          "class": 1,
          "x": 18.58614854745947,
          "y": 16.184632005235112
         },
         {
          "class": -1,
          "x": -36.70218552877872,
          "y": 26.783781394399053
         },
         {
          "class": 1,
          "x": 48.241324901119086,
          "y": 46.93881604049188
         },
         {
          "class": -1,
          "x": 11.332682054670896,
          "y": -45.57393671353791
         },
         {
          "class": -1,
          "x": -49.59448558415925,
          "y": -36.602747295086616
         },
         {
          "class": 1,
          "x": 44.1002271395834,
          "y": -19.71394379709277
         },
         {
          "class": 1,
          "x": -13.385439833957358,
          "y": 39.819624453918834
         },
         {
          "class": -1,
          "x": -18.563619504354932,
          "y": 4.89821840124055
         },
         {
          "class": -1,
          "x": -6.3969042375877745,
          "y": -43.50058238731494
         },
         {
          "class": 1,
          "x": 8.454622570193015,
          "y": 34.406789766190215
         },
         {
          "class": -1,
          "x": -34.35810816125936,
          "y": -27.57010313139585
         },
         {
          "class": -1,
          "x": -8.712979228515927,
          "y": -46.3075130941371
         },
         {
          "class": 1,
          "x": -0.3396501383451822,
          "y": 31.798286442963185
         },
         {
          "class": 1,
          "x": 15.78909387591091,
          "y": 3.3483735652772073
         },
         {
          "class": 1,
          "x": 35.51257407736001,
          "y": -35.031186502859846
         }
        ]
       },
       "encoding": {
        "shape": {
         "field": "class",
         "type": "quantitative"
        },
        "title": "Training Set",
        "x": {
         "field": "x",
         "type": "quantitative"
        },
        "y": {
         "field": "y",
         "type": "quantitative"
        }
       },
       "mark": "point"
      },
      "image/png": "[encoded data removed]",
      "text/plain": [
       "<altair.VegaLite object>"
      ]
     },
     "execution_count": 154,
     "metadata": {},
     "output_type": "execute_result"
    }
   ],
   "source": [
    "alt.Chart(training_df).mark_point().encode(\n",
    "    x='x',\n",
    "    y='y',\n",
    "    shape=\"class\",\n",
    "    title=\"Training Set\"\n",
    ")"
   ]
  },
  {
   "cell_type": "markdown",
   "metadata": {},
   "source": [
    "Now for the actual perceptron learning algo (PLA).\n"
   ]
  },
  {
   "cell_type": "code",
   "execution_count": null,
   "metadata": {},
   "outputs": [],
   "source": [
    "counter = 0\n",
    "while True:\n",
    "    counter++\n",
    "    \n",
    "    if(somecondition):\n",
    "        break"
   ]
  },
  {
   "cell_type": "code",
   "execution_count": 157,
   "metadata": {},
   "outputs": [
    {
     "data": {
      "text/html": [
       "<div>\n",
       "<style scoped>\n",
       "    .dataframe tbody tr th:only-of-type {\n",
       "        vertical-align: middle;\n",
       "    }\n",
       "\n",
       "    .dataframe tbody tr th {\n",
       "        vertical-align: top;\n",
       "    }\n",
       "\n",
       "    .dataframe thead th {\n",
       "        text-align: right;\n",
       "    }\n",
       "</style>\n",
       "<table border=\"1\" class=\"dataframe\">\n",
       "  <thead>\n",
       "    <tr style=\"text-align: right;\">\n",
       "      <th></th>\n",
       "      <th>0</th>\n",
       "      <th>1</th>\n",
       "      <th>2</th>\n",
       "      <th>3</th>\n",
       "      <th>4</th>\n",
       "      <th>5</th>\n",
       "      <th>6</th>\n",
       "      <th>7</th>\n",
       "      <th>8</th>\n",
       "      <th>9</th>\n",
       "      <th>...</th>\n",
       "      <th>15</th>\n",
       "      <th>16</th>\n",
       "      <th>17</th>\n",
       "      <th>18</th>\n",
       "      <th>19</th>\n",
       "      <th>20</th>\n",
       "      <th>21</th>\n",
       "      <th>22</th>\n",
       "      <th>23</th>\n",
       "      <th>24</th>\n",
       "    </tr>\n",
       "  </thead>\n",
       "  <tbody>\n",
       "    <tr>\n",
       "      <th>0</th>\n",
       "      <td>1.000000</td>\n",
       "      <td>1.000000</td>\n",
       "      <td>1.000000</td>\n",
       "      <td>1.000000</td>\n",
       "      <td>1.000000</td>\n",
       "      <td>1.000000</td>\n",
       "      <td>1.000000</td>\n",
       "      <td>1.000000</td>\n",
       "      <td>1.000000</td>\n",
       "      <td>1.000000</td>\n",
       "      <td>...</td>\n",
       "      <td>1.000000</td>\n",
       "      <td>1.000000</td>\n",
       "      <td>1.000000</td>\n",
       "      <td>1.000000</td>\n",
       "      <td>1.000000</td>\n",
       "      <td>1.000000</td>\n",
       "      <td>1.000000</td>\n",
       "      <td>1.000000</td>\n",
       "      <td>1.000000</td>\n",
       "      <td>1.000000</td>\n",
       "    </tr>\n",
       "    <tr>\n",
       "      <th>1</th>\n",
       "      <td>7.140259</td>\n",
       "      <td>7.809130</td>\n",
       "      <td>31.332125</td>\n",
       "      <td>15.347253</td>\n",
       "      <td>2.066936</td>\n",
       "      <td>-25.000332</td>\n",
       "      <td>49.655699</td>\n",
       "      <td>36.016104</td>\n",
       "      <td>-11.839401</td>\n",
       "      <td>17.496485</td>\n",
       "      <td>...</td>\n",
       "      <td>44.100227</td>\n",
       "      <td>-13.385440</td>\n",
       "      <td>-18.563620</td>\n",
       "      <td>-6.396904</td>\n",
       "      <td>8.454623</td>\n",
       "      <td>-34.358108</td>\n",
       "      <td>-8.712979</td>\n",
       "      <td>-0.339650</td>\n",
       "      <td>15.789094</td>\n",
       "      <td>35.512574</td>\n",
       "    </tr>\n",
       "    <tr>\n",
       "      <th>2</th>\n",
       "      <td>-7.111095</td>\n",
       "      <td>-29.390177</td>\n",
       "      <td>32.358887</td>\n",
       "      <td>-33.977044</td>\n",
       "      <td>-17.222719</td>\n",
       "      <td>45.281691</td>\n",
       "      <td>-45.544362</td>\n",
       "      <td>10.319061</td>\n",
       "      <td>-21.638178</td>\n",
       "      <td>-4.316885</td>\n",
       "      <td>...</td>\n",
       "      <td>-19.713944</td>\n",
       "      <td>39.819624</td>\n",
       "      <td>4.898218</td>\n",
       "      <td>-43.500582</td>\n",
       "      <td>34.406790</td>\n",
       "      <td>-27.570103</td>\n",
       "      <td>-46.307513</td>\n",
       "      <td>31.798286</td>\n",
       "      <td>3.348374</td>\n",
       "      <td>-35.031187</td>\n",
       "    </tr>\n",
       "  </tbody>\n",
       "</table>\n",
       "<p>3 rows × 25 columns</p>\n",
       "</div>"
      ],
      "text/plain": [
       "         0          1          2          3          4          5          6   \\\n",
       "0  1.000000   1.000000   1.000000   1.000000   1.000000   1.000000   1.000000   \n",
       "1  7.140259   7.809130  31.332125  15.347253   2.066936 -25.000332  49.655699   \n",
       "2 -7.111095 -29.390177  32.358887 -33.977044 -17.222719  45.281691 -45.544362   \n",
       "\n",
       "          7          8          9     ...             15         16  \\\n",
       "0   1.000000   1.000000   1.000000    ...       1.000000   1.000000   \n",
       "1  36.016104 -11.839401  17.496485    ...      44.100227 -13.385440   \n",
       "2  10.319061 -21.638178  -4.316885    ...     -19.713944  39.819624   \n",
       "\n",
       "          17         18         19         20         21         22  \\\n",
       "0   1.000000   1.000000   1.000000   1.000000   1.000000   1.000000   \n",
       "1 -18.563620  -6.396904   8.454623 -34.358108  -8.712979  -0.339650   \n",
       "2   4.898218 -43.500582  34.406790 -27.570103 -46.307513  31.798286   \n",
       "\n",
       "          23         24  \n",
       "0   1.000000   1.000000  \n",
       "1  15.789094  35.512574  \n",
       "2   3.348374 -35.031187  \n",
       "\n",
       "[3 rows x 25 columns]"
      ]
     },
     "execution_count": 157,
     "metadata": {},
     "output_type": "execute_result"
    }
   ],
   "source": [
    "pd.DataFrame(training_x)"
   ]
  },
  {
   "cell_type": "code",
   "execution_count": 174,
   "metadata": {},
   "outputs": [
    {
     "name": "stdout",
     "output_type": "stream",
     "text": [
      "(1, 3)\n",
      "(1, 3)\n",
      "(1, 3)\n",
      "(1, 3)\n",
      "(1, 3)\n",
      "(1, 3)\n",
      "(1, 3)\n",
      "(1, 3)\n",
      "(1, 3)\n",
      "(1, 3)\n",
      "(1, 3)\n",
      "(1, 3)\n",
      "(1, 3)\n",
      "(1, 3)\n",
      "(1, 3)\n",
      "(1, 3)\n",
      "(1, 3)\n",
      "(1, 3)\n",
      "(1, 3)\n",
      "(1, 3)\n",
      "(1, 3)\n",
      "(1, 3)\n",
      "(1, 3)\n",
      "(1, 3)\n",
      "(1, 3)\n"
     ]
    }
   ],
   "source": [
    "w_trained = \n",
    "for column in training_x.T:\n",
    "    print(column.shape)"
   ]
  },
  {
   "cell_type": "code",
   "execution_count": 178,
   "metadata": {},
   "outputs": [
    {
     "data": {
      "text/plain": [
       "[0, 0]"
      ]
     },
     "execution_count": 178,
     "metadata": {},
     "output_type": "execute_result"
    }
   ],
   "source": [
    "w_star = [0 for i in range(2)]\n",
    "w_star"
   ]
  },
  {
   "cell_type": "code",
   "execution_count": null,
   "metadata": {},
   "outputs": [],
   "source": []
  }
 ],
 "metadata": {
  "kernelspec": {
   "display_name": "Python 3",
   "language": "python",
   "name": "python3"
  },
  "language_info": {
   "codemirror_mode": {
    "name": "ipython",
    "version": 3
   },
   "file_extension": ".py",
   "mimetype": "text/x-python",
   "name": "python",
   "nbconvert_exporter": "python",
   "pygments_lexer": "ipython3",
   "version": "3.6.3"
  }
 },
 "nbformat": 4,
 "nbformat_minor": 2
}
