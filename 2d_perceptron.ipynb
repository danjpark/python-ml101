{
 "cells": [
  {
   "cell_type": "code",
   "execution_count": 108,
   "metadata": {
    "slideshow": {
     "slide_type": "-"
    }
   },
   "outputs": [],
   "source": [
    "## Import modules as needed\n",
    "import pandas as pd\n",
    "import numpy as np\n",
    "import altair as alt\n",
    "import random\n",
    "\n",
    "## enabling for altair\n",
    "alt.enable_mime_rendering()"
   ]
  },
  {
   "cell_type": "markdown",
   "metadata": {},
   "source": [
    "We first create the training examples. To do so we need to create\n",
    "1. the true linear seperator ($w^*$)\n",
    "2. generate a list of points ($x$) and its class ($y=h(x)$).\n",
    "\n",
    "Note:\n",
    "We are working in a 2-dimensional space ($x=(x_1,x_2)$). The form of the true linear seperator is $[0, w_1, w_2]$. And $h(x)=sign(w^Tx)$. If we were to show this as $y = ax + b$ this will be presented in $w_1, w_2$ as \n"
   ]
  },
  {
   "cell_type": "code",
   "execution_count": 109,
   "metadata": {},
   "outputs": [
    {
     "data": {
      "text/plain": [
       "matrix([[0.        ],\n",
       "        [5.71402595],\n",
       "        [4.28889055]])"
      ]
     },
     "execution_count": 109,
     "metadata": {},
     "output_type": "execute_result"
    }
   ],
   "source": [
    "# random seed\n",
    "random.seed(10)\n",
    "\n",
    "w_star = [(random.random() * 10) for i in range(2)]\n",
    "w_star = np.matrix([0] + w_star).T\n",
    "w_star"
   ]
  },
  {
   "cell_type": "markdown",
   "metadata": {},
   "source": [
    "Now we set up 100 random x and calculate the y"
   ]
  },
  {
   "cell_type": "code",
   "execution_count": 110,
   "metadata": {},
   "outputs": [
    {
     "data": {
      "text/plain": [
       "matrix([[  1.        ,   1.        ,   1.        ,   1.        ,\n",
       "           1.        ,   1.        ,   1.        ,   1.        ,\n",
       "           1.        ,   1.        ,   1.        ,   1.        ,\n",
       "           1.        ,   1.        ,   1.        ,   1.        ,\n",
       "           1.        ,   1.        ,   1.        ,   1.        ,\n",
       "           1.        ,   1.        ,   1.        ,   1.        ,\n",
       "           1.        ],\n",
       "        [  7.14025947,   7.80913011,  31.33212514,  15.34725339,\n",
       "           2.06693596, -25.00033233,  49.65569925,  36.01610373,\n",
       "         -11.83940141,  17.49648471,  18.58614855, -36.70218553,\n",
       "          48.2413249 ,  11.33268205, -49.59448558,  44.10022714,\n",
       "         -13.38543983, -18.5636195 ,  -6.39690424,   8.45462257,\n",
       "         -34.35810816,  -8.71297923,  -0.33965014,  15.78909388,\n",
       "          35.51257408],\n",
       "        [ -7.11109453, -29.39017679,  32.35888725, -33.97704435,\n",
       "         -17.22271884,  45.28169091, -45.54436175,  10.3190611 ,\n",
       "         -21.63817821,  -4.31688489,  16.18463201,  26.78378139,\n",
       "          46.93881604, -45.57393671, -36.6027473 , -19.7139438 ,\n",
       "          39.81962445,   4.8982184 , -43.50058239,  34.40678977,\n",
       "         -27.57010313, -46.30751309,  31.79828644,   3.34837357,\n",
       "         -35.0311865 ]])"
      ]
     },
     "execution_count": 110,
     "metadata": {},
     "output_type": "execute_result"
    }
   ],
   "source": [
    "# random seed\n",
    "random.seed(10)\n",
    "\n",
    "x = np.matrix([[1,\n",
    "               (random.random() - 0.5) * 100,\n",
    "               (random.random() - 0.5) * 100] \n",
    "              for i in range(25)]).T\n",
    "x\n"
   ]
  },
  {
   "cell_type": "code",
   "execution_count": 111,
   "metadata": {},
   "outputs": [
    {
     "data": {
      "text/plain": [
       "matrix([[ 1., -1.,  1., -1., -1.,  1.,  1.,  1., -1.,  1.,  1., -1.,  1.,\n",
       "         -1., -1.,  1.,  1., -1., -1.,  1., -1., -1.,  1.,  1.,  1.]])"
      ]
     },
     "execution_count": 111,
     "metadata": {},
     "output_type": "execute_result"
    }
   ],
   "source": [
    "y = np.sign(w_star.T * x)\n",
    "y"
   ]
  },
  {
   "cell_type": "code",
   "execution_count": 120,
   "metadata": {},
   "outputs": [],
   "source": [
    "plotting = pd.DataFrame(x[1:3].T, columns=[\"x\",\"y\"])\n",
    "plotting.head()"
   ]
  },
  {
   "cell_type": "code",
   "execution_count": 130,
   "metadata": {},
   "outputs": [
    {
     "data": {
      "text/plain": [
       "matrix([[  1.        ,   1.        ,   1.        ,   1.        ,\n",
       "           1.        ,   1.        ,   1.        ,   1.        ,\n",
       "           1.        ,   1.        ,   1.        ,   1.        ,\n",
       "           1.        ,   1.        ,   1.        ,   1.        ,\n",
       "           1.        ,   1.        ,   1.        ,   1.        ,\n",
       "           1.        ,   1.        ,   1.        ,   1.        ,\n",
       "           1.        ],\n",
       "        [  7.14025947,   7.80913011,  31.33212514,  15.34725339,\n",
       "           2.06693596, -25.00033233,  49.65569925,  36.01610373,\n",
       "         -11.83940141,  17.49648471,  18.58614855, -36.70218553,\n",
       "          48.2413249 ,  11.33268205, -49.59448558,  44.10022714,\n",
       "         -13.38543983, -18.5636195 ,  -6.39690424,   8.45462257,\n",
       "         -34.35810816,  -8.71297923,  -0.33965014,  15.78909388,\n",
       "          35.51257408],\n",
       "        [ -7.11109453, -29.39017679,  32.35888725, -33.97704435,\n",
       "         -17.22271884,  45.28169091, -45.54436175,  10.3190611 ,\n",
       "         -21.63817821,  -4.31688489,  16.18463201,  26.78378139,\n",
       "          46.93881604, -45.57393671, -36.6027473 , -19.7139438 ,\n",
       "          39.81962445,   4.8982184 , -43.50058239,  34.40678977,\n",
       "         -27.57010313, -46.30751309,  31.79828644,   3.34837357,\n",
       "         -35.0311865 ],\n",
       "        [  1.        ,  -1.        ,   1.        ,  -1.        ,\n",
       "          -1.        ,   1.        ,   1.        ,   1.        ,\n",
       "          -1.        ,   1.        ,   1.        ,  -1.        ,\n",
       "           1.        ,  -1.        ,  -1.        ,   1.        ,\n",
       "           1.        ,  -1.        ,  -1.        ,   1.        ,\n",
       "          -1.        ,  -1.        ,   1.        ,   1.        ,\n",
       "           1.        ]])"
      ]
     },
     "execution_count": 130,
     "metadata": {},
     "output_type": "execute_result"
    }
   ],
   "source": [
    "np.column_stack((x.T, y.T)).T"
   ]
  },
  {
   "cell_type": "code",
   "execution_count": 127,
   "metadata": {},
   "outputs": [
    {
     "name": "stdout",
     "output_type": "stream",
     "text": [
      "(3, 25)\n",
      "(1, 25)\n"
     ]
    }
   ],
   "source": [
    "print(x.shape)\n",
    "print(y.shape)"
   ]
  },
  {
   "cell_type": "code",
   "execution_count": 121,
   "metadata": {},
   "outputs": [
    {
     "data": {
      "application/vnd.vegalite.v1+json": {
       "$schema": "https://vega.github.io/schema/vega-lite/v1.2.1.json",
       "data": {
        "values": [
         {
          "x": 7.14025946899135,
          "y": -7.111094532488538
         },
         {
          "x": 7.809130113447038,
          "y": -29.390176786049828
         },
         {
          "x": 31.332125135732003,
          "y": 32.35888725334455
         },
         {
          "x": 15.347253390117576,
          "y": -33.977044348118035
         },
         {
          "x": 2.0669359639924556,
          "y": -17.222718837790683
         },
         {
          "x": -25.000332331359964,
          "y": 45.28169091459117
         },
         {
          "x": 49.65569925394552,
          "y": -45.5443617549567
         },
         {
          "x": 36.0161037286291,
          "y": 10.319061096818505
         },
         {
          "x": -11.839401408088213,
          "y": -21.638178209328483
         },
         {
          "x": 17.496484713495597,
          "y": -4.316884894169437
         },
         {
          "x": 18.58614854745947,
          "y": 16.184632005235112
         },
         {
          "x": -36.70218552877872,
          "y": 26.783781394399053
         },
         {
          "x": 48.241324901119086,
          "y": 46.93881604049188
         },
         {
          "x": 11.332682054670896,
          "y": -45.57393671353791
         },
         {
          "x": -49.59448558415925,
          "y": -36.602747295086616
         },
         {
          "x": 44.1002271395834,
          "y": -19.71394379709277
         },
         {
          "x": -13.385439833957358,
          "y": 39.819624453918834
         },
         {
          "x": -18.563619504354932,
          "y": 4.89821840124055
         },
         {
          "x": -6.3969042375877745,
          "y": -43.50058238731494
         },
         {
          "x": 8.454622570193015,
          "y": 34.406789766190215
         },
         {
          "x": -34.35810816125936,
          "y": -27.57010313139585
         },
         {
          "x": -8.712979228515927,
          "y": -46.3075130941371
         },
         {
          "x": -0.3396501383451822,
          "y": 31.798286442963185
         },
         {
          "x": 15.78909387591091,
          "y": 3.3483735652772073
         },
         {
          "x": 35.51257407736001,
          "y": -35.031186502859846
         }
        ]
       },
       "encoding": {
        "x": {
         "field": "x",
         "type": "quantitative"
        },
        "y": {
         "field": "y",
         "type": "quantitative"
        }
       },
       "mark": "point"
      },
      "image/png": "[encoded data removed]",
      "text/plain": [
       "<altair.VegaLite object>"
      ]
     },
     "execution_count": 121,
     "metadata": {},
     "output_type": "execute_result"
    }
   ],
   "source": [
    "alt.Chart(plotting).mark_point().encode(\n",
    "    x='x',\n",
    "    y='y',\n",
    ")"
   ]
  },
  {
   "cell_type": "code",
   "execution_count": null,
   "metadata": {},
   "outputs": [],
   "source": []
  }
 ],
 "metadata": {
  "kernelspec": {
   "display_name": "Python 3",
   "language": "python",
   "name": "python3"
  },
  "language_info": {
   "codemirror_mode": {
    "name": "ipython",
    "version": 3
   },
   "file_extension": ".py",
   "mimetype": "text/x-python",
   "name": "python",
   "nbconvert_exporter": "python",
   "pygments_lexer": "ipython3",
   "version": "3.6.3"
  }
 },
 "nbformat": 4,
 "nbformat_minor": 2
}
