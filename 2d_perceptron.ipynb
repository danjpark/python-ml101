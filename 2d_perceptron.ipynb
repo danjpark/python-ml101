{
 "cells": [
  {
   "cell_type": "code",
   "execution_count": 2,
   "metadata": {
    "slideshow": {
     "slide_type": "-"
    }
   },
   "outputs": [],
   "source": [
    "## Import modules as needed\n",
    "import pandas as pd\n",
    "import numpy as np\n",
    "import altair as alt\n",
    "import random\n",
    "\n",
    "## enabling for altair\n",
    "alt.enable_mime_rendering()"
   ]
  },
  {
   "cell_type": "markdown",
   "metadata": {},
   "source": [
    "We first create the training examples. To do so we need to create\n",
    "1. the true linear seperator ($w^*$)\n",
    "2. generate a list of points ($x$) and its class ($y=h(x)$).\n",
    "\n",
    "Note:\n",
    "We are working in a 2-dimensional space ($x=(1, x_1,x_2)$). The form of the true linear seperator is $[w_0, w_1, w_2]$. And $h(x)=sign(w^Tx)$. If we were to show this as $y = ax + b$ this will be presented in $w_0, w_1, w_2$ as $y=-\\frac{w_1}{w_2}x-\\frac{w_o}{w_2}$\n"
   ]
  },
  {
   "cell_type": "code",
   "execution_count": 3,
   "metadata": {},
   "outputs": [
    {
     "data": {
      "text/plain": [
       "matrix([[-0.24049526],\n",
       "        [ 2.73692259],\n",
       "        [-2.46955174]])"
      ]
     },
     "execution_count": 3,
     "metadata": {},
     "output_type": "execute_result"
    }
   ],
   "source": [
    "w_star = np.matrix([((random.random()-0.5) * 10) for i in range(3)]).T\n",
    "w_star"
   ]
  },
  {
   "cell_type": "markdown",
   "metadata": {},
   "source": [
    "Now we set up 100 random training_x and calculate the training_y"
   ]
  },
  {
   "cell_type": "code",
   "execution_count": 4,
   "metadata": {},
   "outputs": [
    {
     "data": {
      "text/plain": [
       "matrix([[  1.        ,   1.        ,   1.        ,   1.        ,\n",
       "           1.        ,   1.        ,   1.        ,   1.        ,\n",
       "           1.        ,   1.        ,   1.        ,   1.        ,\n",
       "           1.        ,   1.        ,   1.        ,   1.        ,\n",
       "           1.        ,   1.        ,   1.        ,   1.        ,\n",
       "           1.        ,   1.        ,   1.        ,   1.        ,\n",
       "           1.        ],\n",
       "        [-24.80624509, -40.41654697, -28.1108305 ,  35.91711857,\n",
       "          39.07777666,  47.91469676, -14.13192136, -30.20070803,\n",
       "          25.02898209,  25.92299822,  25.80756552,  33.7733613 ,\n",
       "           1.62229721,  39.05473676,   3.95432467,  13.66680112,\n",
       "           4.57607371,  18.16311088, -27.42484405,   0.098677  ,\n",
       "         -44.22606554, -46.45780942, -36.90115941,  33.96327728,\n",
       "         -27.38916083],\n",
       "        [-31.9058171 ,  -0.5427063 , -14.41950366, -27.43173202,\n",
       "         -22.11166422, -18.04834155,  15.8805803 ,  -1.43901631,\n",
       "           4.610878  ,  18.49662511,  -1.94007393, -12.48814232,\n",
       "          -4.91932351, -33.70441569, -29.61989664,  19.50988721,\n",
       "         -37.18775072, -10.70148009,  23.30690334,  -6.24953261,\n",
       "         -31.66168492, -11.25838769, -16.41971668,  24.94988518,\n",
       "         -17.1771927 ]])"
      ]
     },
     "execution_count": 4,
     "metadata": {},
     "output_type": "execute_result"
    }
   ],
   "source": [
    "training_x = np.matrix([[1,\n",
    "                         (random.random() - 0.5) * 100,\n",
    "                         (random.random() - 0.5) * 100] \n",
    "                        for i in range(25)]).T\n",
    "\n",
    "training_y = np.sign(w_star.T * training_x)\n",
    "training_x"
   ]
  },
  {
   "cell_type": "code",
   "execution_count": 5,
   "metadata": {},
   "outputs": [
    {
     "data": {
      "text/html": [
       "<div>\n",
       "<style scoped>\n",
       "    .dataframe tbody tr th:only-of-type {\n",
       "        vertical-align: middle;\n",
       "    }\n",
       "\n",
       "    .dataframe tbody tr th {\n",
       "        vertical-align: top;\n",
       "    }\n",
       "\n",
       "    .dataframe thead th {\n",
       "        text-align: right;\n",
       "    }\n",
       "</style>\n",
       "<table border=\"1\" class=\"dataframe\">\n",
       "  <thead>\n",
       "    <tr style=\"text-align: right;\">\n",
       "      <th></th>\n",
       "      <th>x</th>\n",
       "      <th>y</th>\n",
       "      <th>class</th>\n",
       "    </tr>\n",
       "  </thead>\n",
       "  <tbody>\n",
       "    <tr>\n",
       "      <th>0</th>\n",
       "      <td>-24.806245</td>\n",
       "      <td>-31.905817</td>\n",
       "      <td>1.0</td>\n",
       "    </tr>\n",
       "    <tr>\n",
       "      <th>1</th>\n",
       "      <td>-40.416547</td>\n",
       "      <td>-0.542706</td>\n",
       "      <td>-1.0</td>\n",
       "    </tr>\n",
       "    <tr>\n",
       "      <th>2</th>\n",
       "      <td>-28.110831</td>\n",
       "      <td>-14.419504</td>\n",
       "      <td>-1.0</td>\n",
       "    </tr>\n",
       "    <tr>\n",
       "      <th>3</th>\n",
       "      <td>35.917119</td>\n",
       "      <td>-27.431732</td>\n",
       "      <td>1.0</td>\n",
       "    </tr>\n",
       "    <tr>\n",
       "      <th>4</th>\n",
       "      <td>39.077777</td>\n",
       "      <td>-22.111664</td>\n",
       "      <td>1.0</td>\n",
       "    </tr>\n",
       "  </tbody>\n",
       "</table>\n",
       "</div>"
      ],
      "text/plain": [
       "           x          y  class\n",
       "0 -24.806245 -31.905817    1.0\n",
       "1 -40.416547  -0.542706   -1.0\n",
       "2 -28.110831 -14.419504   -1.0\n",
       "3  35.917119 -27.431732    1.0\n",
       "4  39.077777 -22.111664    1.0"
      ]
     },
     "execution_count": 5,
     "metadata": {},
     "output_type": "execute_result"
    }
   ],
   "source": [
    "training_df = pd.DataFrame(np.column_stack((training_x[1:3].T, training_y.T)), columns=[\"x\",\"y\",\"class\"])\n",
    "training_df.head()"
   ]
  },
  {
   "cell_type": "code",
   "execution_count": 6,
   "metadata": {},
   "outputs": [
    {
     "data": {
      "application/vnd.vegalite.v1+json": {
       "$schema": "https://vega.github.io/schema/vega-lite/v1.2.1.json",
       "data": {
        "values": [
         {
          "class": 1,
          "x": -24.80624508901065,
          "y": -31.905817095272894
         },
         {
          "class": -1,
          "x": -40.416546966720546,
          "y": -0.5427063004733834
         },
         {
          "class": -1,
          "x": -28.110830504279583,
          "y": -14.419503659081446
         },
         {
          "class": 1,
          "x": 35.91711856533741,
          "y": -27.43173202266116
         },
         {
          "class": 1,
          "x": 39.07777665991128,
          "y": -22.111664222445924
         },
         {
          "class": 1,
          "x": 47.91469675677998,
          "y": -18.04834154692334
         },
         {
          "class": -1,
          "x": -14.1319213620265,
          "y": 15.880580304913995
         },
         {
          "class": -1,
          "x": -30.200708032946643,
          "y": -1.4390163110951315
         },
         {
          "class": 1,
          "x": 25.02898209261438,
          "y": 4.610877998018736
         },
         {
          "class": 1,
          "x": 25.922998223175718,
          "y": 18.496625111873254
         },
         {
          "class": 1,
          "x": 25.807565518539167,
          "y": -1.9400739250307386
         },
         {
          "class": 1,
          "x": 33.77336130047174,
          "y": -12.48814231856512
         },
         {
          "class": 1,
          "x": 1.622297208596113,
          "y": -4.919323505658801
         },
         {
          "class": 1,
          "x": 39.05473676114758,
          "y": -33.704415692961
         },
         {
          "class": 1,
          "x": 3.954324669926601,
          "y": -29.619896635020716
         },
         {
          "class": -1,
          "x": 13.666801116181482,
          "y": 19.50988720979535
         },
         {
          "class": 1,
          "x": 4.576073710194695,
          "y": -37.18775072285081
         },
         {
          "class": 1,
          "x": 18.16311087550544,
          "y": -10.701480093356253
         },
         {
          "class": -1,
          "x": -27.424844050831343,
          "y": 23.306903335684183
         },
         {
          "class": 1,
          "x": 0.09867699581235234,
          "y": -6.249532605421115
         },
         {
          "class": -1,
          "x": -44.22606554075769,
          "y": -31.6616849246904
         },
         {
          "class": -1,
          "x": -46.457809424486406,
          "y": -11.258387690825856
         },
         {
          "class": -1,
          "x": -36.90115941388073,
          "y": -16.41971667515626
         },
         {
          "class": 1,
          "x": 33.96327727828854,
          "y": 24.949885181231945
         },
         {
          "class": -1,
          "x": -27.38916083108326,
          "y": -17.177192704998756
         }
        ]
       },
       "encoding": {
        "shape": {
         "field": "class",
         "type": "quantitative"
        },
        "x": {
         "field": "x",
         "type": "quantitative"
        },
        "y": {
         "field": "y",
         "type": "quantitative"
        }
       },
       "mark": "point"
      },
      "image/png": "[encoded data removed]",
      "text/plain": [
       "<altair.VegaLite object>"
      ]
     },
     "execution_count": 6,
     "metadata": {},
     "output_type": "execute_result"
    }
   ],
   "source": [
    "alt.Chart(training_df).mark_point().encode(\n",
    "    x='x',\n",
    "    y='y',\n",
    "    shape=\"class\"\n",
    ")"
   ]
  },
  {
   "cell_type": "markdown",
   "metadata": {},
   "source": [
    "Altair is a great graphing package for python that handles high level statistical graphing. Unfortuantely, I haven't figured out how to layer the graph with the actual dividor ($w^*$).\n",
    "\n",
    "Now for the actual perceptron learning algo (PLA).\n"
   ]
  },
  {
   "cell_type": "code",
   "execution_count": null,
   "metadata": {},
   "outputs": [],
   "source": [
    "counter = 0\n",
    "while True:\n",
    "    counter++\n",
    "    if counter % 10 == 0:\n",
    "        print(counter)\n",
    "    \n",
    "    if(somecondition):\n",
    "        break"
   ]
  },
  {
   "cell_type": "code",
   "execution_count": null,
   "metadata": {},
   "outputs": [],
   "source": [
    "pd.DataFrame(training_x)"
   ]
  },
  {
   "cell_type": "code",
   "execution_count": null,
   "metadata": {},
   "outputs": [],
   "source": [
    "#first we set up the w that is to be trained, call it w_trian\n",
    "w_trained = [1 for i in range(2)]\n",
    "w_trained = np.matrix([0] + w_trained).T\n",
    "\n",
    "while True:\n",
    "    for column in training_x.T:\n",
    "        print(column * w_trained)\n",
    "        break;\n",
    "    break;"
   ]
  },
  {
   "cell_type": "code",
   "execution_count": null,
   "metadata": {},
   "outputs": [],
   "source": [
    "w_trained = [0 for i in range(2)]\n",
    "w_trained = np.matrix([0] + w_trained).T\n",
    "w_trained"
   ]
  },
  {
   "cell_type": "code",
   "execution_count": null,
   "metadata": {},
   "outputs": [],
   "source": [
    "training_x * training_y.T"
   ]
  },
  {
   "cell_type": "code",
   "execution_count": null,
   "metadata": {},
   "outputs": [],
   "source": []
  }
 ],
 "metadata": {
  "kernelspec": {
   "display_name": "Python 3",
   "language": "python",
   "name": "python3"
  },
  "language_info": {
   "codemirror_mode": {
    "name": "ipython",
    "version": 3
   },
   "file_extension": ".py",
   "mimetype": "text/x-python",
   "name": "python",
   "nbconvert_exporter": "python",
   "pygments_lexer": "ipython3",
   "version": "3.6.3"
  }
 },
 "nbformat": 4,
 "nbformat_minor": 2
}
